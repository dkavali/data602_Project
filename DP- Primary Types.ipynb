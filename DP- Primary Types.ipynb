{
 "cells": [
  {
   "cell_type": "code",
   "execution_count": 1,
   "metadata": {},
   "outputs": [],
   "source": [
    "import os\n",
    "#spark imports\n",
    "from pyspark import SparkContext\n",
    "from pyspark.sql import SparkSession\n",
    "from pyspark.sql import DataFrame\n",
    "import csv\n",
    "from pyspark.sql.types import *\n",
    "from pyspark.sql.functions import format_number, when\n",
    "import pandas as pd\n",
    "import matplotlib.pyplot as plt"
   ]
  },
  {
   "cell_type": "code",
   "execution_count": 2,
   "metadata": {},
   "outputs": [],
   "source": [
    "#change RAM allocation, current = 8GB\n",
    "#change Core allocation, current = 3 Cores\n",
    "\n",
    "spark = SparkSession.builder.appName(\"Project - Chicago crime\")\\\n",
    ".config(\"spark.some.config.option\", \"some-value\")\\\n",
    ".config(\"spark.driver.memory\", \"8g\")\\\n",
    ".config(\"spark.driver.cores\", '3')\\\n",
    ".getOrCreate()\n"
   ]
  },
  {
   "cell_type": "code",
   "execution_count": 3,
   "metadata": {},
   "outputs": [],
   "source": [
    "crimes_schema = StructType([StructField(\"ID\", StringType(), True),\n",
    "                            StructField(\"Case Number\", StringType(), True),\n",
    "                            StructField(\"Date\", StringType(), True ),\n",
    "                            StructField(\"Block\", StringType(), True),\n",
    "                            StructField(\"IUCR\", StringType(), True),\n",
    "                            StructField(\"Primary Type\", StringType(), True  ),\n",
    "                            StructField(\"Description\", StringType(), True ),\n",
    "                            StructField(\"Location Description\", StringType(), True ),\n",
    "                            StructField(\"Arrest\", BooleanType(), True),\n",
    "                            StructField(\"Domestic\", BooleanType(), True),\n",
    "                            StructField(\"Beat\", StringType(), True),\n",
    "                            StructField(\"District\", StringType(), True),\n",
    "                            StructField(\"Ward\", StringType(), True),\n",
    "                            StructField(\"Community Area\", StringType(), True),\n",
    "                            StructField(\"FBI Code\", StringType(), True ),\n",
    "                            StructField(\"X Coordinate\", DoubleType(), True),\n",
    "                            StructField(\"Y Coordinate\", DoubleType(), True ),\n",
    "                            StructField(\"Year\", IntegerType(), True),\n",
    "                            StructField(\"Updated On\", DateType(), True ),\n",
    "                            StructField(\"Latitude\", DoubleType(), True),\n",
    "                            StructField(\"Longitude\", DoubleType(), True),\n",
    "                            StructField(\"Location\", StringType(), True )\n",
    "                            ])"
   ]
  },
  {
   "cell_type": "code",
   "execution_count": 4,
   "metadata": {},
   "outputs": [],
   "source": [
    "#set your local dataset path\n",
    "dataSetPath = '/Applications/devActivities/BigDataSpark/Project/Crimes_-_2001_to_present.csv'"
   ]
  },
  {
   "cell_type": "code",
   "execution_count": 5,
   "metadata": {},
   "outputs": [],
   "source": [
    "dataset = spark.read.option(\"header\", \"True\")\\\n",
    "        .option(\"schema\", crimes_schema)\\\n",
    "        .csv(dataSetPath)"
   ]
  },
  {
   "cell_type": "markdown",
   "metadata": {},
   "source": [
    "### Have a look at the data schema:"
   ]
  },
  {
   "cell_type": "code",
   "execution_count": 6,
   "metadata": {
    "scrolled": false
   },
   "outputs": [
    {
     "data": {
      "text/html": [
       "<div>\n",
       "<style scoped>\n",
       "    .dataframe tbody tr th:only-of-type {\n",
       "        vertical-align: middle;\n",
       "    }\n",
       "\n",
       "    .dataframe tbody tr th {\n",
       "        vertical-align: top;\n",
       "    }\n",
       "\n",
       "    .dataframe thead th {\n",
       "        text-align: right;\n",
       "    }\n",
       "</style>\n",
       "<table border=\"1\" class=\"dataframe\">\n",
       "  <thead>\n",
       "    <tr style=\"text-align: right;\">\n",
       "      <th></th>\n",
       "      <th>ID</th>\n",
       "      <th>Case Number</th>\n",
       "      <th>Date</th>\n",
       "      <th>Block</th>\n",
       "      <th>IUCR</th>\n",
       "      <th>Primary Type</th>\n",
       "      <th>Description</th>\n",
       "      <th>Location Description</th>\n",
       "      <th>Arrest</th>\n",
       "      <th>Domestic</th>\n",
       "      <th>...</th>\n",
       "      <th>Ward</th>\n",
       "      <th>Community Area</th>\n",
       "      <th>FBI Code</th>\n",
       "      <th>X Coordinate</th>\n",
       "      <th>Y Coordinate</th>\n",
       "      <th>Year</th>\n",
       "      <th>Updated On</th>\n",
       "      <th>Latitude</th>\n",
       "      <th>Longitude</th>\n",
       "      <th>Location</th>\n",
       "    </tr>\n",
       "  </thead>\n",
       "  <tbody>\n",
       "    <tr>\n",
       "      <th>0</th>\n",
       "      <td>11034701</td>\n",
       "      <td>JA366925</td>\n",
       "      <td>01/01/2001 11:00:00 AM</td>\n",
       "      <td>016XX E 86TH PL</td>\n",
       "      <td>1153</td>\n",
       "      <td>DECEPTIVE PRACTICE</td>\n",
       "      <td>FINANCIAL IDENTITY THEFT OVER $ 300</td>\n",
       "      <td>RESIDENCE</td>\n",
       "      <td>false</td>\n",
       "      <td>false</td>\n",
       "      <td>...</td>\n",
       "      <td>8</td>\n",
       "      <td>45</td>\n",
       "      <td>11</td>\n",
       "      <td>None</td>\n",
       "      <td>None</td>\n",
       "      <td>2001</td>\n",
       "      <td>08/05/2017 03:50:08 PM</td>\n",
       "      <td>None</td>\n",
       "      <td>None</td>\n",
       "      <td>None</td>\n",
       "    </tr>\n",
       "    <tr>\n",
       "      <th>1</th>\n",
       "      <td>11227287</td>\n",
       "      <td>JB147188</td>\n",
       "      <td>10/08/2017 03:00:00 AM</td>\n",
       "      <td>092XX S RACINE AVE</td>\n",
       "      <td>0281</td>\n",
       "      <td>CRIM SEXUAL ASSAULT</td>\n",
       "      <td>NON-AGGRAVATED</td>\n",
       "      <td>RESIDENCE</td>\n",
       "      <td>false</td>\n",
       "      <td>false</td>\n",
       "      <td>...</td>\n",
       "      <td>21</td>\n",
       "      <td>73</td>\n",
       "      <td>02</td>\n",
       "      <td>None</td>\n",
       "      <td>None</td>\n",
       "      <td>2017</td>\n",
       "      <td>02/11/2018 03:57:41 PM</td>\n",
       "      <td>None</td>\n",
       "      <td>None</td>\n",
       "      <td>None</td>\n",
       "    </tr>\n",
       "    <tr>\n",
       "      <th>2</th>\n",
       "      <td>11227583</td>\n",
       "      <td>JB147595</td>\n",
       "      <td>03/28/2017 02:00:00 PM</td>\n",
       "      <td>026XX W 79TH ST</td>\n",
       "      <td>0620</td>\n",
       "      <td>BURGLARY</td>\n",
       "      <td>UNLAWFUL ENTRY</td>\n",
       "      <td>OTHER</td>\n",
       "      <td>false</td>\n",
       "      <td>false</td>\n",
       "      <td>...</td>\n",
       "      <td>18</td>\n",
       "      <td>70</td>\n",
       "      <td>05</td>\n",
       "      <td>None</td>\n",
       "      <td>None</td>\n",
       "      <td>2017</td>\n",
       "      <td>02/11/2018 03:57:41 PM</td>\n",
       "      <td>None</td>\n",
       "      <td>None</td>\n",
       "      <td>None</td>\n",
       "    </tr>\n",
       "    <tr>\n",
       "      <th>3</th>\n",
       "      <td>11227293</td>\n",
       "      <td>JB147230</td>\n",
       "      <td>09/09/2017 08:17:00 PM</td>\n",
       "      <td>060XX S EBERHART AVE</td>\n",
       "      <td>0810</td>\n",
       "      <td>THEFT</td>\n",
       "      <td>OVER $500</td>\n",
       "      <td>RESIDENCE</td>\n",
       "      <td>false</td>\n",
       "      <td>false</td>\n",
       "      <td>...</td>\n",
       "      <td>20</td>\n",
       "      <td>42</td>\n",
       "      <td>06</td>\n",
       "      <td>None</td>\n",
       "      <td>None</td>\n",
       "      <td>2017</td>\n",
       "      <td>02/11/2018 03:57:41 PM</td>\n",
       "      <td>None</td>\n",
       "      <td>None</td>\n",
       "      <td>None</td>\n",
       "    </tr>\n",
       "    <tr>\n",
       "      <th>4</th>\n",
       "      <td>11227634</td>\n",
       "      <td>JB147599</td>\n",
       "      <td>08/26/2017 10:00:00 AM</td>\n",
       "      <td>001XX W RANDOLPH ST</td>\n",
       "      <td>0281</td>\n",
       "      <td>CRIM SEXUAL ASSAULT</td>\n",
       "      <td>NON-AGGRAVATED</td>\n",
       "      <td>HOTEL/MOTEL</td>\n",
       "      <td>false</td>\n",
       "      <td>false</td>\n",
       "      <td>...</td>\n",
       "      <td>42</td>\n",
       "      <td>32</td>\n",
       "      <td>02</td>\n",
       "      <td>None</td>\n",
       "      <td>None</td>\n",
       "      <td>2017</td>\n",
       "      <td>02/11/2018 03:57:41 PM</td>\n",
       "      <td>None</td>\n",
       "      <td>None</td>\n",
       "      <td>None</td>\n",
       "    </tr>\n",
       "  </tbody>\n",
       "</table>\n",
       "<p>5 rows × 22 columns</p>\n",
       "</div>"
      ],
      "text/plain": [
       "         ID Case Number                    Date                 Block  IUCR  \\\n",
       "0  11034701    JA366925  01/01/2001 11:00:00 AM       016XX E 86TH PL  1153   \n",
       "1  11227287    JB147188  10/08/2017 03:00:00 AM    092XX S RACINE AVE  0281   \n",
       "2  11227583    JB147595  03/28/2017 02:00:00 PM       026XX W 79TH ST  0620   \n",
       "3  11227293    JB147230  09/09/2017 08:17:00 PM  060XX S EBERHART AVE  0810   \n",
       "4  11227634    JB147599  08/26/2017 10:00:00 AM   001XX W RANDOLPH ST  0281   \n",
       "\n",
       "          Primary Type                          Description  \\\n",
       "0   DECEPTIVE PRACTICE  FINANCIAL IDENTITY THEFT OVER $ 300   \n",
       "1  CRIM SEXUAL ASSAULT                       NON-AGGRAVATED   \n",
       "2             BURGLARY                       UNLAWFUL ENTRY   \n",
       "3                THEFT                            OVER $500   \n",
       "4  CRIM SEXUAL ASSAULT                       NON-AGGRAVATED   \n",
       "\n",
       "  Location Description Arrest Domestic   ...    Ward Community Area FBI Code  \\\n",
       "0            RESIDENCE  false    false   ...       8             45       11   \n",
       "1            RESIDENCE  false    false   ...      21             73       02   \n",
       "2                OTHER  false    false   ...      18             70       05   \n",
       "3            RESIDENCE  false    false   ...      20             42       06   \n",
       "4          HOTEL/MOTEL  false    false   ...      42             32       02   \n",
       "\n",
       "  X Coordinate Y Coordinate  Year              Updated On Latitude Longitude  \\\n",
       "0         None         None  2001  08/05/2017 03:50:08 PM     None      None   \n",
       "1         None         None  2017  02/11/2018 03:57:41 PM     None      None   \n",
       "2         None         None  2017  02/11/2018 03:57:41 PM     None      None   \n",
       "3         None         None  2017  02/11/2018 03:57:41 PM     None      None   \n",
       "4         None         None  2017  02/11/2018 03:57:41 PM     None      None   \n",
       "\n",
       "  Location  \n",
       "0     None  \n",
       "1     None  \n",
       "2     None  \n",
       "3     None  \n",
       "4     None  \n",
       "\n",
       "[5 rows x 22 columns]"
      ]
     },
     "execution_count": 6,
     "metadata": {},
     "output_type": "execute_result"
    }
   ],
   "source": [
    "dataset.limit(20).toPandas().head()"
   ]
  },
  {
   "cell_type": "markdown",
   "metadata": {},
   "source": [
    "### Count the total number of instance before preprocessing:"
   ]
  },
  {
   "cell_type": "code",
   "execution_count": 7,
   "metadata": {},
   "outputs": [
    {
     "data": {
      "text/plain": [
       "7092612"
      ]
     },
     "execution_count": 7,
     "metadata": {},
     "output_type": "execute_result"
    }
   ],
   "source": [
    "dataset.count()"
   ]
  },
  {
   "cell_type": "markdown",
   "metadata": {},
   "source": [
    "### Drop the unused columns:"
   ]
  },
  {
   "cell_type": "code",
   "execution_count": 8,
   "metadata": {},
   "outputs": [],
   "source": [
    "dataset = dataset.drop('ID')\\\n",
    "            .drop('Case Number')\\\n",
    "            .drop('FBI Code')\\\n",
    "            .drop('Updated On')\\\n",
    "            .drop('IUCR')\\\n",
    "            .drop('X Coordinate')\\\n",
    "            .drop('Y Coordinate')\\\n",
    "            .drop('Location')"
   ]
  },
  {
   "cell_type": "markdown",
   "metadata": {},
   "source": [
    "### Drop all the instance that have null value, then count:"
   ]
  },
  {
   "cell_type": "code",
   "execution_count": 9,
   "metadata": {},
   "outputs": [
    {
     "data": {
      "text/plain": [
       "6413586"
      ]
     },
     "execution_count": 9,
     "metadata": {},
     "output_type": "execute_result"
    }
   ],
   "source": [
    "# Dropping some NA values for now\n",
    "dataset = dataset.na.drop()\n",
    "dataset.count()"
   ]
  },
  {
   "cell_type": "markdown",
   "metadata": {},
   "source": [
    "### Drop some crime types that are rare and non-criminal:"
   ]
  },
  {
   "cell_type": "code",
   "execution_count": 10,
   "metadata": {},
   "outputs": [
    {
     "data": {
      "text/plain": [
       "6412032"
      ]
     },
     "execution_count": 10,
     "metadata": {},
     "output_type": "execute_result"
    }
   ],
   "source": [
    "#Removing these from primary type\n",
    "\n",
    "dataset = dataset.filter((dataset['Primary Type'] != 'NON-CRIMINAL (SUBJECT SPECIFIED)') &\n",
    "                         (dataset['Primary Type'] != 'NON-CRIMINAL') &\n",
    "                         (dataset['Primary Type'] != 'NON - CRIMINAL') &\n",
    "                         (dataset['Primary Type'] != 'CONCEALED CARRY LICENSE VIOLATION') &\n",
    "                         (dataset['Primary Type'] != 'DOMESTIC VIOLENCE') &\n",
    "                         (dataset['Primary Type'] != 'PUBLIC INDECENCY') &\n",
    "                         (dataset['Primary Type'] != 'OBSCENITY')&\n",
    "                         (dataset['Primary Type'] != 'RITUALISM'))#Add this type, it is rare. --Haifeng\n",
    "dataset.count()"
   ]
  },
  {
   "cell_type": "markdown",
   "metadata": {},
   "source": [
    "### Define a function that we are going to use to combine similar type of crimes:"
   ]
  },
  {
   "cell_type": "code",
   "execution_count": 11,
   "metadata": {},
   "outputs": [],
   "source": [
    "def combinePrimaryTypes(targetDf):\n",
    "    '''\n",
    "    This function helps combine PRIMARY CRIME TYPES\n",
    "    '''\n",
    "    targetDf = targetDf.withColumn(\"Primary Type\", \\\n",
    "              when(targetDf[\"Primary Type\"] == 'OTHER NARCOTIC VIOLATION','NARCOTICS').otherwise(targetDf['Primary Type']))\n",
    "    targetDf = targetDf.withColumn(\"Primary Type\", \\\n",
    "              when((targetDf[\"Primary Type\"] == 'PROSTITUTION') | (targetDf[\"Primary Type\"] == 'CRIM SEXUAL ASSAULT'),'SEX OFFENSE').otherwise(targetDf['Primary Type']))    \n",
    "    targetDf = targetDf.withColumn(\"Primary Type\", \\\n",
    "              when((targetDf[\"Primary Type\"] == 'LIQUOR LAW VIOLATION') | (targetDf[\"Primary Type\"] == 'RITUALISM') | (targetDf[\"Primary Type\"] == 'GAMBLING'),'OTHER OFFENSE').otherwise(targetDf['Primary Type']))\n",
    "    targetDf = targetDf.withColumn(\"Primary Type\", \\\n",
    "              when((targetDf[\"Primary Type\"] == 'CRIMINAL TRESPASS') | (targetDf[\"Primary Type\"] == 'ROBBERY'),'ROBBARY or TRESPASS').otherwise(targetDf['Primary Type']))\n",
    "    targetDf = targetDf.withColumn(\"Primary Type\", \\\n",
    "              when((targetDf[\"Primary Type\"] == 'INTERFERENCE WITH PUBLIC OFFICER') ,'PUBLIC PEACE VIOLATION').otherwise(targetDf['Primary Type']))\n",
    "    targetDf = targetDf.withColumn(\"Primary Type\", \\\n",
    "              when((targetDf[\"Primary Type\"] == 'INTIMIDATION') | (targetDf[\"Primary Type\"] == 'STALKING'),'INTIMIDATION or STALKING').otherwise(targetDf['Primary Type']))\n",
    "    return targetDf"
   ]
  },
  {
   "cell_type": "markdown",
   "metadata": {},
   "source": [
    "### Apply above function on dataset:"
   ]
  },
  {
   "cell_type": "code",
   "execution_count": 12,
   "metadata": {},
   "outputs": [],
   "source": [
    "dataset = combinePrimaryTypes(dataset)"
   ]
  },
  {
   "cell_type": "markdown",
   "metadata": {},
   "source": [
    "### Count the number of types:"
   ]
  },
  {
   "cell_type": "code",
   "execution_count": 13,
   "metadata": {},
   "outputs": [
    {
     "name": "stdout",
     "output_type": "stream",
     "text": [
      "Count of Primary Type reduced to =  20\n"
     ]
    }
   ],
   "source": [
    "typeDF = dataset.groupBy('Primary Type')\n",
    "count = typeDF.count().count()\n",
    "print('Count of Primary Type reduced to = ', count)"
   ]
  },
  {
   "cell_type": "markdown",
   "metadata": {},
   "source": [
    "### Count the number of every types of crimes:"
   ]
  },
  {
   "cell_type": "code",
   "execution_count": 14,
   "metadata": {},
   "outputs": [
    {
     "name": "stdout",
     "output_type": "stream",
     "text": [
      "+--------------------------+-------+\n",
      "|Primary Type              |count  |\n",
      "+--------------------------+-------+\n",
      "|THEFT                     |1361846|\n",
      "|BATTERY                   |1174203|\n",
      "|CRIMINAL DAMAGE           |731523 |\n",
      "|NARCOTICS                 |654276 |\n",
      "|ROBBARY or TRESPASS       |426411 |\n",
      "|OTHER OFFENSE             |424124 |\n",
      "|ASSAULT                   |404135 |\n",
      "|BURGLARY                  |367032 |\n",
      "|MOTOR VEHICLE THEFT       |290723 |\n",
      "|DECEPTIVE PRACTICE        |255888 |\n",
      "|SEX OFFENSE               |109315 |\n",
      "|WEAPONS VIOLATION         |72995  |\n",
      "|PUBLIC PEACE VIOLATION    |62717  |\n",
      "|OFFENSE INVOLVING CHILDREN|43664  |\n",
      "|ARSON                     |10271  |\n",
      "|HOMICIDE                  |9750   |\n",
      "|INTIMIDATION or STALKING  |7115   |\n",
      "|KIDNAPPING                |5693   |\n",
      "|CRIMINAL SEXUAL ASSAULT   |292    |\n",
      "|HUMAN TRAFFICKING         |59     |\n",
      "+--------------------------+-------+\n",
      "\n"
     ]
    }
   ],
   "source": [
    "typeDF.count().orderBy('count', ascending=False).show(count,truncate = False)"
   ]
  },
  {
   "cell_type": "code",
   "execution_count": null,
   "metadata": {},
   "outputs": [],
   "source": []
  },
  {
   "cell_type": "code",
   "execution_count": null,
   "metadata": {},
   "outputs": [],
   "source": []
  },
  {
   "cell_type": "code",
   "execution_count": null,
   "metadata": {},
   "outputs": [],
   "source": []
  },
  {
   "cell_type": "code",
   "execution_count": null,
   "metadata": {},
   "outputs": [],
   "source": []
  },
  {
   "cell_type": "code",
   "execution_count": null,
   "metadata": {},
   "outputs": [],
   "source": []
  }
 ],
 "metadata": {
  "kernelspec": {
   "display_name": "Python 3",
   "language": "python",
   "name": "python3"
  },
  "language_info": {
   "codemirror_mode": {
    "name": "ipython",
    "version": 3
   },
   "file_extension": ".py",
   "mimetype": "text/x-python",
   "name": "python",
   "nbconvert_exporter": "python",
   "pygments_lexer": "ipython3",
   "version": "3.5.6"
  }
 },
 "nbformat": 4,
 "nbformat_minor": 4
}
