{
 "cells": [
  {
   "cell_type": "code",
   "execution_count": 1,
   "metadata": {},
   "outputs": [],
   "source": [
    "import os\n",
    "#spark imports\n",
    "from pyspark import SparkContext\n",
    "from pyspark.sql import SparkSession\n",
    "from pyspark.sql import DataFrame\n",
    "import csv\n",
    "\n",
    "from pyspark.sql.types import *\n",
    "from pyspark.sql.functions import format_number, when\n",
    "\n",
    "\n",
    "import pandas as pd\n",
    "import matplotlib.pyplot as plt\n",
    "import numpy as np\n",
    "import pyspark.sql.functions as F"
   ]
  },
  {
   "cell_type": "code",
   "execution_count": null,
   "metadata": {},
   "outputs": [],
   "source": [
    "#change RAM allocation, current = 8GB\n",
    "#change Core allocation, current = 3 Cores\n",
    "\n",
    "spark = SparkSession.builder.appName(\"Project - Chicago crime\")\\\n",
    ".config(\"spark.some.config.option\", \"some-value\")\\\n",
    ".config(\"spark.driver.memory\", \"5g\")\\\n",
    ".getOrCreate()"
   ]
  },
  {
   "cell_type": "code",
   "execution_count": 22,
   "metadata": {},
   "outputs": [],
   "source": [
    "crimes_schema = StructType([StructField(\"ID\", StringType(), True),\n",
    "                            StructField(\"Case Number\", StringType(), True),\n",
    "                            StructField(\"Date\", StringType(), True ),\n",
    "                            StructField(\"Block\", StringType(), True),\n",
    "                            StructField(\"IUCR\", StringType(), True),\n",
    "                            StructField(\"Primary Type\", StringType(), True  ),\n",
    "                            StructField(\"Description\", StringType(), True ),\n",
    "                            StructField(\"Location Description\", StringType(), True ),\n",
    "                            StructField(\"Arrest\", BooleanType(), True),\n",
    "                            StructField(\"Domestic\", BooleanType(), True),\n",
    "                            StructField(\"Beat\", StringType(), True),\n",
    "                            StructField(\"District\", StringType(), True),\n",
    "                            StructField(\"Ward\", StringType(), True),\n",
    "                            StructField(\"Community Area\", StringType(), True),\n",
    "                            StructField(\"FBI Code\", StringType(), True ),\n",
    "                            StructField(\"X Coordinate\", DoubleType(), True),\n",
    "                            StructField(\"Y Coordinate\", DoubleType(), True ),\n",
    "                            StructField(\"Year\", IntegerType(), True),\n",
    "                            StructField(\"Updated On\", DateType(), True ),\n",
    "                            StructField(\"Latitude\", DoubleType(), True),\n",
    "                            StructField(\"Longitude\", DoubleType(), True),\n",
    "                            StructField(\"Location\", StringType(), True )\n",
    "                            ])\n"
   ]
  },
  {
   "cell_type": "code",
   "execution_count": 23,
   "metadata": {},
   "outputs": [],
   "source": [
    "dataset = spark.read.csv('C:/Courses/BigData/Project/Crimes.csv',header = True,schema = crimes_schema)\n",
    "#dataset.persist()"
   ]
  },
  {
   "cell_type": "code",
   "execution_count": 24,
   "metadata": {},
   "outputs": [],
   "source": [
    "#dataset.select([\"Latitude\",\"Longitude\",\"Year\",\"X Coordinate\",\"Y Coordinate\"]).describe().show()\n",
    "\n",
    "dataset = dataset.drop('ID')\n",
    "dataset = dataset.drop('Case Number')\n",
    "dataset = dataset.drop('FBI Code')\n",
    "dataset = dataset.drop('Updated On')\n",
    "dataset = dataset.drop('IUCR')# Could be useful - four digit codes that law enforcement agencies use to classify criminal incidents when taking individual reports.\n",
    "dataset = dataset.drop('X Coordinate')\n",
    "dataset = dataset.drop('Y Coordinate')\n",
    "dataset = dataset.drop('Location')\n",
    "#dataset = dataset.drop('Arrest')\n",
    "dataset = dataset.drop('Domestic')\n",
    "dataset = dataset.drop('Beat')\n",
    "#dataset = dataset.drop('Location Description')\n",
    "dataset = dataset.drop('Description')\n",
    "dataset = dataset.drop('District')\n",
    "#dataset = dataset.drop('Ward')\n",
    "dataset = dataset.drop('Community Area')\n",
    "#dataset = dataset.drop('Longitude')\n",
    "#dataset = dataset.drop('Latitude')\n",
    "dataset = dataset.drop('Block')"
   ]
  },
  {
   "cell_type": "markdown",
   "metadata": {},
   "source": [
    "<font size=\"4\">Rows in original dataset(Year 2001-2020)</font>"
   ]
  },
  {
   "cell_type": "code",
   "execution_count": 25,
   "metadata": {},
   "outputs": [
    {
     "data": {
      "text/plain": [
       "7067336"
      ]
     },
     "execution_count": 25,
     "metadata": {},
     "output_type": "execute_result"
    }
   ],
   "source": [
    "dataset.count()"
   ]
  },
  {
   "cell_type": "markdown",
   "metadata": {},
   "source": [
    "<font size=\"4\">Dataset chosen of year 2010-2019</font>"
   ]
  },
  {
   "cell_type": "code",
   "execution_count": 26,
   "metadata": {},
   "outputs": [],
   "source": [
    "dataset=dataset.filter((dataset['Year'] >2009) & (dataset['Year'] !=2020))"
   ]
  },
  {
   "cell_type": "code",
   "execution_count": 27,
   "metadata": {},
   "outputs": [
    {
     "data": {
      "text/plain": [
       "2969191"
      ]
     },
     "execution_count": 27,
     "metadata": {},
     "output_type": "execute_result"
    }
   ],
   "source": [
    "dataset.count()"
   ]
  },
  {
   "cell_type": "markdown",
   "metadata": {},
   "source": [
    "<font size=\"4\">Dropped null values in data</font>"
   ]
  },
  {
   "cell_type": "code",
   "execution_count": 28,
   "metadata": {},
   "outputs": [],
   "source": [
    "dataset=dataset.na.drop()"
   ]
  },
  {
   "cell_type": "code",
   "execution_count": null,
   "metadata": {},
   "outputs": [],
   "source": [
    "<font size=\"4\">Dropped values accounted for <1 % of data"
   ]
  },
  {
   "cell_type": "code",
   "execution_count": 29,
   "metadata": {},
   "outputs": [
    {
     "data": {
      "text/plain": [
       "2943230"
      ]
     },
     "execution_count": 29,
     "metadata": {},
     "output_type": "execute_result"
    }
   ],
   "source": [
    "dataset.count()"
   ]
  },
  {
   "cell_type": "code",
   "execution_count": 31,
   "metadata": {},
   "outputs": [
    {
     "name": "stdout",
     "output_type": "stream",
     "text": [
      "+--------------------+------+\n",
      "|        Primary Type| count|\n",
      "+--------------------+------+\n",
      "|OFFENSE INVOLVING...| 22415|\n",
      "|            STALKING|  1794|\n",
      "|PUBLIC PEACE VIOL...| 24065|\n",
      "|           OBSCENITY|   474|\n",
      "|NON-CRIMINAL (SUB...|     9|\n",
      "|               ARSON|  4412|\n",
      "|            GAMBLING|  4409|\n",
      "|   CRIMINAL TRESPASS| 75108|\n",
      "|             ASSAULT|192574|\n",
      "|      NON - CRIMINAL|    38|\n",
      "|LIQUOR LAW VIOLATION|  3992|\n",
      "| MOTOR VEHICLE THEFT|128894|\n",
      "|               THEFT|666384|\n",
      "|             BATTERY|535709|\n",
      "|             ROBBERY|114459|\n",
      "|            HOMICIDE|  5312|\n",
      "|    PUBLIC INDECENCY|   116|\n",
      "| CRIM SEXUAL ASSAULT| 14137|\n",
      "|   HUMAN TRAFFICKING|    59|\n",
      "|        INTIMIDATION|  1504|\n",
      "|        PROSTITUTION| 14640|\n",
      "|  DECEPTIVE PRACTICE|148325|\n",
      "|CONCEALED CARRY L...|   518|\n",
      "|         SEX OFFENSE| 10162|\n",
      "|     CRIMINAL DAMAGE|315193|\n",
      "|           NARCOTICS|253623|\n",
      "|        NON-CRIMINAL|   162|\n",
      "|       OTHER OFFENSE|179540|\n",
      "|          KIDNAPPING|  2201|\n",
      "|            BURGLARY|169950|\n",
      "|   WEAPONS VIOLATION| 41070|\n",
      "|OTHER NARCOTIC VI...|    59|\n",
      "|INTERFERENCE WITH...| 11923|\n",
      "+--------------------+------+\n",
      "\n"
     ]
    }
   ],
   "source": [
    "d=dataset.groupby('Primary Type').count()\n",
    "d.show(50)"
   ]
  },
  {
   "cell_type": "code",
   "execution_count": 7,
   "metadata": {},
   "outputs": [],
   "source": [
    "#dataset=dataset.filter((dataset['Year'] >2009) & (dataset['Year'] !=2020))"
   ]
  },
  {
   "cell_type": "code",
   "execution_count": 8,
   "metadata": {},
   "outputs": [
    {
     "name": "stdout",
     "output_type": "stream",
     "text": [
      "+--------------------+--------------------+--------------------+------+----+----+------------+-------------+\n",
      "|                Date|        Primary Type|Location Description|Arrest|Ward|Year|    Latitude|    Longitude|\n",
      "+--------------------+--------------------+--------------------+------+----+----+------------+-------------+\n",
      "|01/03/2019 07:20:...|PUBLIC PEACE VIOL...|            AIRCRAFT| false|  41|2019|42.002816387| -87.90609433|\n",
      "|03/16/2019 05:58:...|             BATTERY|              STREET| false|  42|2019| 41.88336939|-87.633860272|\n",
      "|03/12/2019 10:00:...|               THEFT|RESIDENTIAL YARD ...| false|   4|2019|41.825346902|-87.606780575|\n",
      "|03/14/2019 06:42:...|             BATTERY|           RESIDENCE| false|  49|2019|42.016541612|-87.672499325|\n",
      "|03/14/2019 04:03:...|       OTHER OFFENSE|              STREET| false|   4|2019|41.825298645|  -87.6069609|\n",
      "|03/16/2019 03:16:...|             BATTERY|           RESIDENCE| false|  41|2019|41.976370778|-87.800502515|\n",
      "|04/07/2019 04:08:...|             ASSAULT|              STREET|  true|  25|2019|41.875590103|-87.633515501|\n",
      "|04/06/2019 03:00:...| CRIM SEXUAL ASSAULT|           APARTMENT| false|  16|2019|41.793428982|-87.651212789|\n",
      "|04/16/2019 01:25:...|     CRIMINAL DAMAGE|             CTA BUS| false|  25|2019|41.852128157| -87.67890364|\n",
      "|04/17/2019 03:45:...|               THEFT|PARKING LOT/GARAG...| false|  26|2019|41.917336159|-87.712375085|\n",
      "|04/18/2019 09:30:...|       OTHER OFFENSE|           APARTMENT| false|  11|2019|41.837389317|-87.640177584|\n",
      "|04/18/2019 07:30:...|               THEFT|              STREET| false|   1|2019|41.924839894| -87.69405765|\n",
      "|04/18/2019 08:30:...|     CRIMINAL DAMAGE|CHURCH/SYNAGOGUE/...| false|  34|2019|41.676037163| -87.63775335|\n",
      "|04/19/2019 01:57:...|OFFENSE INVOLVING...|           RESIDENCE| false|  28|2019|41.884865037|-87.755230327|\n",
      "|04/20/2019 08:50:...|        PROSTITUTION|              STREET|  true|   7|2019| 41.75702248|-87.558073456|\n",
      "|04/21/2019 10:22:...|             BATTERY|               OTHER| false|  11|2019|41.862218265|-87.639087164|\n",
      "|04/11/2019 01:29:...|OFFENSE INVOLVING...|           RESIDENCE| false|  38|2019|41.961449077|-87.777058774|\n",
      "|04/20/2019 07:15:...|             BATTERY|              STREET| false|  25|2019|41.857746163|-87.639711853|\n",
      "|04/20/2019 04:58:...|             BATTERY|              STREET| false|   8|2019|41.745303445|-87.600164398|\n",
      "|04/21/2019 12:30:...|             BATTERY|PARKING LOT/GARAG...| false|   1|2019|41.932222582|-87.683432779|\n",
      "|04/21/2019 06:00:...|               THEFT|    RESIDENCE-GARAGE| false|  45|2019|41.976490526|-87.791494995|\n",
      "|04/21/2019 06:00:...|             BATTERY|              STREET|  true|  28|2019|41.884925408|-87.711120923|\n",
      "|04/23/2019 12:30:...|     CRIMINAL DAMAGE|PARKING LOT/GARAG...| false|  21|2019|41.742656445|-87.632018466|\n",
      "|04/23/2019 04:16:...|             BATTERY|           APARTMENT| false|  24|2019|41.872642689|-87.716306964|\n",
      "|04/25/2019 05:20:...|             BATTERY|           RESIDENCE| false|   9|2019|41.697609261|-87.613507612|\n",
      "|04/25/2019 12:30:...|               THEFT|           CTA TRAIN| false|   1|2019|41.911069617|-87.687240439|\n",
      "|04/25/2019 03:30:...|     CRIMINAL DAMAGE|           APARTMENT| false|  38|2019|41.960532919|-87.763157737|\n",
      "|04/26/2019 02:00:...|             BATTERY|SCHOOL, PRIVATE, ...| false|  37|2019|41.893650526|-87.759290438|\n",
      "|04/01/2019 08:45:...|               THEFT|           CTA TRAIN| false|   2|2019|41.903894777|-87.631814251|\n",
      "|05/09/2019 11:45:...|               THEFT|           RESIDENCE| false|  26|2019|41.902910635|-87.698489836|\n",
      "|05/02/2019 02:30:...|               THEFT|           RESIDENCE| false|  17|2019|41.764779221|-87.676280498|\n",
      "|05/08/2019 03:40:...|               THEFT|           APARTMENT| false|  11|2019|41.833702334|-87.644958276|\n",
      "|05/15/2019 10:30:...|               THEFT|           APARTMENT| false|  26|2019|41.897499466|-87.693136644|\n",
      "|05/16/2019 12:00:...|               THEFT|RESIDENTIAL YARD ...| false|  17|2019|41.774789128|-87.689625516|\n",
      "|05/04/2019 02:00:...|               THEFT|         HOTEL/MOTEL| false|   2|2019|41.897596067|-87.623218373|\n",
      "|05/17/2019 01:00:...|             BATTERY|         CTA STATION| false|   4|2019| 41.87229779|-87.627812641|\n",
      "|05/18/2019 05:00:...|     CRIMINAL DAMAGE|           RESIDENCE| false|  45|2019|41.974832155|-87.786680446|\n",
      "|05/18/2019 10:45:...|             BATTERY|           RESIDENCE| false|   8|2019|41.721028724|-87.593539289|\n",
      "|04/01/2019 12:00:...|OFFENSE INVOLVING...|           APARTMENT| false|   7|2019| 41.75645779|-87.565113432|\n",
      "|05/19/2019 01:30:...|               THEFT|           APARTMENT| false|  20|2019|41.781418541|-87.608405955|\n",
      "|05/20/2019 01:00:...|             BATTERY|SCHOOL, PUBLIC, B...|  true|   9|2019|41.670279026|-87.622420806|\n",
      "|05/13/2019 03:00:...|OFFENSE INVOLVING...|           APARTMENT| false|  24|2019|41.863527271|-87.722653917|\n",
      "|05/21/2019 10:15:...|               THEFT|           RESIDENCE| false|  10|2019|41.722103131|-87.551068308|\n",
      "|05/21/2019 10:00:...|             BATTERY|          RESTAURANT| false|   4|2019|41.809519024|-87.607384952|\n",
      "|05/21/2019 12:32:...|           NARCOTICS|               ALLEY|  true|  37|2019|41.912046197|-87.745928892|\n",
      "|05/21/2019 06:21:...|           NARCOTICS|VEHICLE NON-COMME...|  true|  17|2019|41.750653534|-87.643379949|\n",
      "|03/01/2019 05:00:...| CRIM SEXUAL ASSAULT|           RESIDENCE| false|  32|2019|41.918502559|-87.678795429|\n",
      "|05/21/2019 01:30:...|       OTHER OFFENSE|           APARTMENT|  true|  31|2019|41.938498334|-87.729628178|\n",
      "|05/21/2019 08:30:...|               THEFT|           CTA TRAIN| false|  42|2019|41.885738286| -87.63576612|\n",
      "|05/21/2019 09:30:...|     CRIMINAL DAMAGE|COMMERCIAL / BUSI...| false|  40|2019|41.976183409|-87.668801484|\n",
      "+--------------------+--------------------+--------------------+------+----+----+------------+-------------+\n",
      "only showing top 50 rows\n",
      "\n"
     ]
    }
   ],
   "source": [
    "dataset_new=dataset.filter((dataset['Primary Type']!='STALKING')&\n",
    "                             (dataset['Primary Type']!='OBSCENITY')&\n",
    "                             (dataset['Primary Type']!='NON-CRIMINAL (SUBJECT SPECIFIED)')&\n",
    "                             (dataset['Primary Type']!='GAMBLING')&\n",
    "                             (dataset['Primary Type']!='NON - CRIMINAL')&\n",
    "                             (dataset['Primary Type']!='LIQUOR LAW VIOLATION')&\n",
    "                             (dataset['Primary Type']!='PUBLIC INDECENCY')&\n",
    "                             (dataset['Primary Type']!='HUMAN TRAFFICKING')&\n",
    "                             (dataset['Primary Type']!='INTIMIDATION')&\n",
    "                             (dataset['Primary Type']!='CONCEALED CARRY LICENSE VIOLATION')&\n",
    "                             (dataset['Primary Type']!='NON-CRIMINAL')&\n",
    "                             (dataset['Primary Type']!='OTHER NARCOTIC VIOLATION'))\n",
    "dataset_new.show(50)                             "
   ]
  },
  {
   "cell_type": "code",
   "execution_count": 9,
   "metadata": {},
   "outputs": [
    {
     "name": "stdout",
     "output_type": "stream",
     "text": [
      "+--------------------+--------------------+--------------------+------+----+----+------------+-------------+\n",
      "|                Date|        Primary Type|Location Description|Arrest|Ward|Year|    Latitude|    Longitude|\n",
      "+--------------------+--------------------+--------------------+------+----+----+------------+-------------+\n",
      "|01/03/2019 07:20:...|PUBLIC PEACE VIOL...|            AIRCRAFT| false|  41|2019|42.002816387| -87.90609433|\n",
      "|03/16/2019 05:58:...|             BATTERY|              STREET| false|  42|2019| 41.88336939|-87.633860272|\n",
      "|03/12/2019 10:00:...|               THEFT|RESIDENTIAL YARD ...| false|   4|2019|41.825346902|-87.606780575|\n",
      "|03/14/2019 06:42:...|             BATTERY|           RESIDENCE| false|  49|2019|42.016541612|-87.672499325|\n",
      "|03/14/2019 04:03:...|       OTHER OFFENSE|              STREET| false|   4|2019|41.825298645|  -87.6069609|\n",
      "|03/16/2019 03:16:...|             BATTERY|           RESIDENCE| false|  41|2019|41.976370778|-87.800502515|\n",
      "|04/07/2019 04:08:...|             ASSAULT|              STREET|  true|  25|2019|41.875590103|-87.633515501|\n",
      "|04/06/2019 03:00:...|         SEX OFFENSE|           APARTMENT| false|  16|2019|41.793428982|-87.651212789|\n",
      "|04/16/2019 01:25:...|     CRIMINAL DAMAGE|             CTA BUS| false|  25|2019|41.852128157| -87.67890364|\n",
      "|04/17/2019 03:45:...|               THEFT|PARKING LOT/GARAG...| false|  26|2019|41.917336159|-87.712375085|\n",
      "|04/18/2019 09:30:...|       OTHER OFFENSE|           APARTMENT| false|  11|2019|41.837389317|-87.640177584|\n",
      "|04/18/2019 07:30:...|               THEFT|              STREET| false|   1|2019|41.924839894| -87.69405765|\n",
      "|04/18/2019 08:30:...|     CRIMINAL DAMAGE|CHURCH/SYNAGOGUE/...| false|  34|2019|41.676037163| -87.63775335|\n",
      "|04/19/2019 01:57:...|OFFENSE INVOLVING...|           RESIDENCE| false|  28|2019|41.884865037|-87.755230327|\n",
      "|04/20/2019 08:50:...|         SEX OFFENSE|              STREET|  true|   7|2019| 41.75702248|-87.558073456|\n",
      "|04/21/2019 10:22:...|             BATTERY|               OTHER| false|  11|2019|41.862218265|-87.639087164|\n",
      "|04/11/2019 01:29:...|OFFENSE INVOLVING...|           RESIDENCE| false|  38|2019|41.961449077|-87.777058774|\n",
      "|04/20/2019 07:15:...|             BATTERY|              STREET| false|  25|2019|41.857746163|-87.639711853|\n",
      "|04/20/2019 04:58:...|             BATTERY|              STREET| false|   8|2019|41.745303445|-87.600164398|\n",
      "|04/21/2019 12:30:...|             BATTERY|PARKING LOT/GARAG...| false|   1|2019|41.932222582|-87.683432779|\n",
      "+--------------------+--------------------+--------------------+------+----+----+------------+-------------+\n",
      "only showing top 20 rows\n",
      "\n"
     ]
    }
   ],
   "source": [
    "dataset_new_1 = dataset_new.withColumn(\"Primary Type\", \\\n",
    "                               when((dataset_new[\"Primary Type\"] == 'CRIM SEXUAL ASSAULT') | \\\n",
    "                                    (dataset_new[\"Primary Type\"] == 'PROSTITUTION') ,'SEX OFFENSE').otherwise(dataset_new['Primary Type']))\n",
    "dataset_new_1=dataset_new_1.withColumn(\"Primary Type\", \\\n",
    "                               when((dataset_new_1[\"Primary Type\"] == 'WEAPONS VIOLATION') | \\\n",
    "                                    (dataset_new_1[\"Primary Type\"] == 'INTERFERENCE WITH PUBLIC OFFICER') ,'PUBLIC PEACE VIOLATION').otherwise(dataset_new_1['Primary Type']))\n",
    "dataset_new_1=dataset_new_1.withColumn(\"Primary Type\", \\\n",
    "                               when((dataset_new_1[\"Primary Type\"] == 'ARSON') ,'CRIMINAL TRESPASS').otherwise(dataset_new_1['Primary Type']))\n",
    "dataset_new_1.show()"
   ]
  },
  {
   "cell_type": "code",
   "execution_count": 10,
   "metadata": {},
   "outputs": [
    {
     "name": "stdout",
     "output_type": "stream",
     "text": [
      "+--------------------+------+\n",
      "|Location Description| count|\n",
      "+--------------------+------+\n",
      "|   RAILROAD PROPERTY|     4|\n",
      "|AIRPORT TERMINAL ...|  1734|\n",
      "|EXPRESSWAY EMBANK...|     1|\n",
      "|POLICE FACILITY/V...|  8642|\n",
      "|               MOTEL|     2|\n",
      "|            SIDEWALK|302839|\n",
      "|AIRPORT TERMINAL ...|    82|\n",
      "|CTA GARAGE / OTHE...|  5539|\n",
      "|            CAR WASH|  1227|\n",
      "|    AIRPORT/AIRCRAFT|   759|\n",
      "|            HOSPITAL|     5|\n",
      "|MEDICAL/DENTAL OF...|  2942|\n",
      "|    FEDERAL BUILDING|   357|\n",
      "|             TRAILER|     1|\n",
      "|         CTA STATION|  5175|\n",
      "|SCHOOL, PUBLIC, G...| 12974|\n",
      "|SPORTS ARENA/STADIUM|  2992|\n",
      "|                FARM|     5|\n",
      "|               HOUSE|   279|\n",
      "|VEHICLE - OTHER R...|   453|\n",
      "+--------------------+------+\n",
      "only showing top 20 rows\n",
      "\n"
     ]
    }
   ],
   "source": [
    "d=dataset_new_1.groupby('Location Description').count()\n",
    "d.show()"
   ]
  },
  {
   "cell_type": "code",
   "execution_count": 11,
   "metadata": {},
   "outputs": [],
   "source": [
    "dataset_new_1.repartition(1).write.csv('my_csv2',mode=\"append\",header=True)"
   ]
  },
  {
   "cell_type": "code",
   "execution_count": null,
   "metadata": {},
   "outputs": [],
   "source": []
  }
 ],
 "metadata": {
  "kernelspec": {
   "display_name": "Python 3",
   "language": "python",
   "name": "python3"
  },
  "language_info": {
   "codemirror_mode": {
    "name": "ipython",
    "version": 3
   },
   "file_extension": ".py",
   "mimetype": "text/x-python",
   "name": "python",
   "nbconvert_exporter": "python",
   "pygments_lexer": "ipython3",
   "version": "3.8.8"
  }
 },
 "nbformat": 4,
 "nbformat_minor": 2
}
