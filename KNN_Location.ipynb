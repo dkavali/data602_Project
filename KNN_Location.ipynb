{
 "cells": [
  {
   "cell_type": "code",
   "execution_count": 1,
   "metadata": {
    "colab": {},
    "colab_type": "code",
    "id": "jUYFZRkSRxgs"
   },
   "outputs": [
    {
     "name": "stderr",
     "output_type": "stream",
     "text": [
      "The system cannot find the path specified.\n",
      "'wget' is not recognized as an internal or external command,\n",
      "operable program or batch file.\n",
      "tar: Error opening archive: Failed to open 'spark-2.4.5-bin-hadoop2.7.tgz'\n"
     ]
    }
   ],
   "source": [
    "!apt-get install openjdk-8-jdk-headless -qq > /dev/null\n",
    "!wget -q https://www-us.apache.org/dist/spark/spark-2.4.5/spark-2.4.5-bin-hadoop2.7.tgz\n",
    "!tar xf spark-2.4.5-bin-hadoop2.7.tgz\n",
    "!pip install -q findspark"
   ]
  },
  {
   "cell_type": "code",
   "execution_count": 0,
   "metadata": {
    "colab": {},
    "colab_type": "code",
    "id": "6RAA6Sl5SGCz"
   },
   "outputs": [],
   "source": [
    "import os\n",
    "os.environ[\"JAVA_HOME\"] = \"/usr/lib/jvm/java-8-openjdk-amd64\"\n",
    "os.environ[\"SPARK_HOME\"] = \"/content/spark-2.4.5-bin-hadoop2.7\""
   ]
  },
  {
   "cell_type": "code",
   "execution_count": 0,
   "metadata": {
    "colab": {},
    "colab_type": "code",
    "id": "C8tx_u3XSvMA"
   },
   "outputs": [],
   "source": [
    "import findspark\n",
    "findspark.init()\n",
    "from pyspark.sql import SparkSession\n",
    "spark = SparkSession.builder.master(\"local[*]\").getOrCreate()"
   ]
  },
  {
   "cell_type": "code",
   "execution_count": 0,
   "metadata": {
    "colab": {},
    "colab_type": "code",
    "id": "0wkWEhgTS4R5"
   },
   "outputs": [],
   "source": [
    "#spark imports\n",
    "from pyspark import SparkContext\n",
    "from pyspark.sql import SparkSession\n",
    "from pyspark.sql import DataFrame\n",
    "import csv\n",
    "from pyspark.sql.types import *\n",
    "from pyspark.sql.functions import format_number, when\n",
    "import pyspark.sql.functions as F"
   ]
  },
  {
   "cell_type": "code",
   "execution_count": 1,
   "metadata": {
    "colab": {
     "base_uri": "https://localhost:8080/",
     "height": 71
    },
    "colab_type": "code",
    "id": "WWW1sQ_SmnHR",
    "outputId": "2b7bc3a1-93dd-4a2b-e3b5-9fbae13e142e"
   },
   "outputs": [
    {
     "name": "stderr",
     "output_type": "stream",
     "text": [
      "/usr/local/lib/python3.6/dist-packages/statsmodels/tools/_testing.py:19: FutureWarning: pandas.util.testing is deprecated. Use the functions in the public API at pandas.testing instead.\n",
      "  import pandas.util.testing as tm\n"
     ]
    }
   ],
   "source": [
    "import pandas as pd\n",
    "import matplotlib.pyplot as plt\n",
    "import seaborn as sns\n",
    "import numpy as np\n",
    "\n",
    "from sklearn.model_selection import train_test_split, cross_val_score\n",
    "from sklearn.neighbors import KNeighborsClassifier\n",
    "from sklearn import metrics\n",
    "from sklearn.preprocessing import StandardScaler\n",
    "from sklearn.preprocessing import LabelEncoder"
   ]
  },
  {
   "cell_type": "code",
   "execution_count": 2,
   "metadata": {
    "colab": {
     "base_uri": "https://localhost:8080/",
     "height": 34
    },
    "colab_type": "code",
    "id": "a_IJuPcoiMeW",
    "outputId": "f6fe7ed8-863f-4138-ddf4-02560318dd1e"
   },
   "outputs": [
    {
     "data": {
      "text/plain": [
       "'/device:GPU:0'"
      ]
     },
     "execution_count": 2,
     "metadata": {
      "tags": []
     },
     "output_type": "execute_result"
    }
   ],
   "source": [
    "#test CPU type\n",
    "import tensorflow as tf\n",
    "tf.test.gpu_device_name()"
   ]
  },
  {
   "cell_type": "code",
   "execution_count": 0,
   "metadata": {
    "colab": {},
    "colab_type": "code",
    "id": "lcLNCc297NzQ"
   },
   "outputs": [],
   "source": [
    "#change RAM allocation, current = 20GB\n",
    "#change Core allocation, current = 3 Cores\n",
    "\n",
    "spark = SparkSession.builder.appName(\"Project - Chicago crime\")\\\n",
    ".config(\"spark.some.config.option\", \"some-value\")\\\n",
    ".config(\"spark.driver.memory\", \"20g\")\\\n",
    ".config(\"spark.driver.cores\", '3')\\\n",
    ".getOrCreate()"
   ]
  },
  {
   "cell_type": "code",
   "execution_count": 2,
   "metadata": {
    "colab": {
     "base_uri": "https://localhost:8080/",
     "height": 34
    },
    "colab_type": "code",
    "id": "u8jAl4MDzplO",
    "outputId": "b655e987-af95-448d-bc54-a28c18b52ae1"
   },
   "outputs": [
    {
     "name": "stdout",
     "output_type": "stream",
     "text": [
      "Mounted at /content/gdrive\n"
     ]
    }
   ],
   "source": [
    "from google.colab import drive\n",
    "drive.mount('/content/gdrive',force_remount=True)"
   ]
  },
  {
   "cell_type": "code",
   "execution_count": 0,
   "metadata": {
    "colab": {},
    "colab_type": "code",
    "id": "VhnN28da7YZm"
   },
   "outputs": [],
   "source": [
    "crimes_schema = StructType([StructField(\"ID\", IntegerType(), True),\n",
    "                            StructField(\"Case Number\", StringType(), True),\n",
    "                            StructField(\"Date\", StringType(), True ),\n",
    "                            StructField(\"Block\", StringType(), True),\n",
    "                            StructField(\"IUCR\", StringType(), True),\n",
    "                            StructField(\"Primary Type\", StringType(), True  ),\n",
    "                            StructField(\"Description\", StringType(), True ),\n",
    "                            StructField(\"Location Description\", StringType(), True ),\n",
    "                            StructField(\"Arrest\", BooleanType(), True),\n",
    "                            StructField(\"Domestic\", BooleanType(), True),\n",
    "                            StructField(\"Beat\", IntegerType(), True),\n",
    "                            StructField(\"District\", IntegerType(), True),\n",
    "                            StructField(\"Ward\", IntegerType(), True),\n",
    "                            StructField(\"Community Area\", IntegerType(), True),\n",
    "                            StructField(\"FBI Code\", StringType(), True ),\n",
    "                            StructField(\"X Coordinate\", IntegerType(), True),\n",
    "                            StructField(\"Y Coordinate\", IntegerType(), True ),\n",
    "                            StructField(\"Year\", IntegerType(), True),\n",
    "                            StructField(\"Updated On\", StringType(), True ),\n",
    "                            StructField(\"Latitude\", DoubleType(), True),\n",
    "                            StructField(\"Longitude\", DoubleType(), True),\n",
    "                            StructField(\"Location\", StringType(), True )\n",
    "                            ])"
   ]
  },
  {
   "cell_type": "code",
   "execution_count": 0,
   "metadata": {
    "colab": {},
    "colab_type": "code",
    "id": "cpuUJg3qTuBr"
   },
   "outputs": [],
   "source": [
    "data = spark.read.csv('/content/gdrive/My Drive/BigData/Crimes_-_2001_to_present.csv',header = True,schema = crimes_schema)"
   ]
  },
  {
   "cell_type": "code",
   "execution_count": 11,
   "metadata": {
    "colab": {
     "base_uri": "https://localhost:8080/",
     "height": 122
    },
    "colab_type": "code",
    "id": "NYi4kEyjj9Lm",
    "outputId": "5f275b2e-b5f5-4206-8979-cbb623686238"
   },
   "outputs": [
    {
     "data": {
      "text/plain": [
       "[Row(ID=11034701, Case Number='JA366925', Date='01/01/2001 11:00:00 AM', Block='016XX E 86TH PL', IUCR='1153', Primary Type='DECEPTIVE PRACTICE', Description='FINANCIAL IDENTITY THEFT OVER $ 300', Location Description='RESIDENCE', Arrest=False, Domestic=False, Beat=412, District=4, Ward=8, Community Area=45, FBI Code='11', X Coordinate=None, Y Coordinate=None, Year=2001, Updated On='08/05/2017 03:50:08 PM', Latitude=None, Longitude=None, Location=None),\n",
       " Row(ID=11227287, Case Number='JB147188', Date='10/08/2017 03:00:00 AM', Block='092XX S RACINE AVE', IUCR='0281', Primary Type='CRIM SEXUAL ASSAULT', Description='NON-AGGRAVATED', Location Description='RESIDENCE', Arrest=False, Domestic=False, Beat=2222, District=22, Ward=21, Community Area=73, FBI Code='02', X Coordinate=None, Y Coordinate=None, Year=2017, Updated On='02/11/2018 03:57:41 PM', Latitude=None, Longitude=None, Location=None),\n",
       " Row(ID=11227583, Case Number='JB147595', Date='03/28/2017 02:00:00 PM', Block='026XX W 79TH ST', IUCR='0620', Primary Type='BURGLARY', Description='UNLAWFUL ENTRY', Location Description='OTHER', Arrest=False, Domestic=False, Beat=835, District=8, Ward=18, Community Area=70, FBI Code='05', X Coordinate=None, Y Coordinate=None, Year=2017, Updated On='02/11/2018 03:57:41 PM', Latitude=None, Longitude=None, Location=None),\n",
       " Row(ID=11227293, Case Number='JB147230', Date='09/09/2017 08:17:00 PM', Block='060XX S EBERHART AVE', IUCR='0810', Primary Type='THEFT', Description='OVER $500', Location Description='RESIDENCE', Arrest=False, Domestic=False, Beat=313, District=3, Ward=20, Community Area=42, FBI Code='06', X Coordinate=None, Y Coordinate=None, Year=2017, Updated On='02/11/2018 03:57:41 PM', Latitude=None, Longitude=None, Location=None),\n",
       " Row(ID=11227634, Case Number='JB147599', Date='08/26/2017 10:00:00 AM', Block='001XX W RANDOLPH ST', IUCR='0281', Primary Type='CRIM SEXUAL ASSAULT', Description='NON-AGGRAVATED', Location Description='HOTEL/MOTEL', Arrest=False, Domestic=False, Beat=122, District=1, Ward=42, Community Area=32, FBI Code='02', X Coordinate=None, Y Coordinate=None, Year=2017, Updated On='02/11/2018 03:57:41 PM', Latitude=None, Longitude=None, Location=None)]"
      ]
     },
     "execution_count": 11,
     "metadata": {
      "tags": []
     },
     "output_type": "execute_result"
    }
   ],
   "source": [
    "data.head(5)"
   ]
  },
  {
   "cell_type": "markdown",
   "metadata": {
    "colab_type": "text",
    "id": "nHKAbOgD9PqE"
   },
   "source": [
    "# Data preprocessing - Spark"
   ]
  },
  {
   "cell_type": "markdown",
   "metadata": {
    "colab_type": "text",
    "id": "BzaC4w6y_We0"
   },
   "source": [
    "**Working on data starting 2010.**"
   ]
  },
  {
   "cell_type": "code",
   "execution_count": 0,
   "metadata": {
    "colab": {},
    "colab_type": "code",
    "id": "rkCO4QYi_QIk"
   },
   "outputs": [],
   "source": [
    "dataset = data.filter((data['Year'] >2009) & (data['Year'] !=2020))"
   ]
  },
  {
   "cell_type": "code",
   "execution_count": 0,
   "metadata": {
    "colab": {},
    "colab_type": "code",
    "id": "iITWfMSF9KI0"
   },
   "outputs": [],
   "source": [
    "#dropping columns which non-relative \n",
    "\n",
    "dataset = dataset.drop('ID')\n",
    "dataset = dataset.drop('Case Number')\n",
    "dataset = dataset.drop('FBI Code')\n",
    "dataset = dataset.drop('Updated On')\n",
    "dataset = dataset.drop('IUCR')# Could be useful - four digit codes that law enforcement agencies use to classify criminal incidents when taking individual reports.\n",
    "dataset = dataset.drop('X Coordinate')\n",
    "dataset = dataset.drop('Y Coordinate')\n",
    "dataset = dataset.drop('Location')\n",
    "dataset = dataset.drop('Description')\n",
    "dataset = dataset.drop('Domestic')"
   ]
  },
  {
   "cell_type": "markdown",
   "metadata": {
    "colab_type": "text",
    "id": "EWasgSY39ZFc"
   },
   "source": [
    "**Preprocessing Primary types**"
   ]
  },
  {
   "cell_type": "code",
   "execution_count": 0,
   "metadata": {
    "colab": {
     "base_uri": "https://localhost:8080/",
     "height": 459
    },
    "colab_type": "code",
    "id": "vCIRD2StyWiN",
    "outputId": "8202414d-3bd9-428c-80e7-3c180464015f"
   },
   "outputs": [
    {
     "name": "stdout",
     "output_type": "stream",
     "text": [
      "+--------------------+------+\n",
      "|        Primary Type| count|\n",
      "+--------------------+------+\n",
      "|               THEFT|671393|\n",
      "|             BATTERY|536171|\n",
      "|     CRIMINAL DAMAGE|315708|\n",
      "|           NARCOTICS|257342|\n",
      "|             ASSAULT|192818|\n",
      "|       OTHER OFFENSE|180674|\n",
      "|            BURGLARY|170185|\n",
      "|  DECEPTIVE PRACTICE|160807|\n",
      "| MOTOR VEHICLE THEFT|129109|\n",
      "|             ROBBERY|114506|\n",
      "|   CRIMINAL TRESPASS| 75197|\n",
      "|   WEAPONS VIOLATION| 41132|\n",
      "|PUBLIC PEACE VIOL...| 24095|\n",
      "|OFFENSE INVOLVING...| 23558|\n",
      "| CRIM SEXUAL ASSAULT| 14724|\n",
      "|        PROSTITUTION| 14646|\n",
      "|INTERFERENCE WITH...| 11936|\n",
      "|         SEX OFFENSE| 10769|\n",
      "|            HOMICIDE|  5315|\n",
      "|               ARSON|  4420|\n",
      "+--------------------+------+\n",
      "only showing top 20 rows\n",
      "\n"
     ]
    }
   ],
   "source": [
    "primaryCount = dataset.groupby('Primary Type').count()\n",
    "primaryCount.orderBy('count', ascending=False).show()"
   ]
  },
  {
   "cell_type": "code",
   "execution_count": 0,
   "metadata": {
    "colab": {},
    "colab_type": "code",
    "id": "Vb9FYC51Y24_"
   },
   "outputs": [],
   "source": [
    "print('Distinct primary types '+ str(primaryCount.distinct().count()))"
   ]
  },
  {
   "cell_type": "markdown",
   "metadata": {
    "colab_type": "text",
    "id": "XSkptdhjABdF"
   },
   "source": [
    "**Drop crimes which are not so significant**"
   ]
  },
  {
   "cell_type": "code",
   "execution_count": 0,
   "metadata": {
    "colab": {},
    "colab_type": "code",
    "id": "ILpR-ndCMdp2"
   },
   "outputs": [],
   "source": [
    "dataset = dataset.filter((dataset['Primary Type']!='STALKING')&\n",
    "                             (dataset['Primary Type']!='OBSCENITY')&\n",
    "                             (dataset['Primary Type']!='NON-CRIMINAL (SUBJECT SPECIFIED)')&\n",
    "                             (dataset['Primary Type']!='GAMBLING')&\n",
    "                             (dataset['Primary Type']!='NON - CRIMINAL')&\n",
    "                             (dataset['Primary Type']!='LIQUOR LAW VIOLATION')&\n",
    "                             (dataset['Primary Type']!='PUBLIC INDECENCY')&\n",
    "                             (dataset['Primary Type']!='HUMAN TRAFFICKING')&\n",
    "                             (dataset['Primary Type']!='INTIMIDATION')&\n",
    "                             (dataset['Primary Type']!='CONCEALED CARRY LICENSE VIOLATION')&\n",
    "                             (dataset['Primary Type']!='NON-CRIMINAL')&\n",
    "                             (dataset['Primary Type']!='OTHER NARCOTIC VIOLATION'))"
   ]
  },
  {
   "cell_type": "markdown",
   "metadata": {
    "colab_type": "text",
    "id": "w6l0-AN8AffY"
   },
   "source": [
    "**Merging similar crime types**"
   ]
  },
  {
   "cell_type": "code",
   "execution_count": 0,
   "metadata": {
    "colab": {},
    "colab_type": "code",
    "id": "0Wf6mmo6Md4N"
   },
   "outputs": [],
   "source": [
    "dataset = dataset.withColumn(\"Primary Type\", \\\n",
    "                               when((dataset[\"Primary Type\"] == 'CRIM SEXUAL ASSAULT') | \\\n",
    "                                    (dataset[\"Primary Type\"] == 'PROSTITUTION') ,'SEX OFFENSE').otherwise(dataset['Primary Type']))\n",
    "dataset=dataset.withColumn(\"Primary Type\", \\\n",
    "                               when((dataset[\"Primary Type\"] == 'WEAPONS VIOLATION') | \\\n",
    "                                    (dataset[\"Primary Type\"] == 'INTERFERENCE WITH PUBLIC OFFICER') ,'PUBLIC PEACE VIOLATION').otherwise(dataset['Primary Type']))\n",
    "dataset=dataset.withColumn(\"Primary Type\", \\\n",
    "                               when((dataset[\"Primary Type\"] == 'ARSON') ,'CRIMINAL TRESPASS').otherwise(dataset['Primary Type']))\n"
   ]
  },
  {
   "cell_type": "code",
   "execution_count": 0,
   "metadata": {
    "colab": {
     "base_uri": "https://localhost:8080/",
     "height": 391
    },
    "colab_type": "code",
    "id": "ryT1U91lMeD8",
    "outputId": "864f6914-80ad-499e-cb00-873147524dbb"
   },
   "outputs": [
    {
     "name": "stdout",
     "output_type": "stream",
     "text": [
      "+--------------------+------+\n",
      "|        Primary Type| count|\n",
      "+--------------------+------+\n",
      "|               THEFT|671393|\n",
      "|             BATTERY|536171|\n",
      "|     CRIMINAL DAMAGE|315708|\n",
      "|           NARCOTICS|257342|\n",
      "|             ASSAULT|192818|\n",
      "|       OTHER OFFENSE|180674|\n",
      "|            BURGLARY|170185|\n",
      "|  DECEPTIVE PRACTICE|160807|\n",
      "| MOTOR VEHICLE THEFT|129109|\n",
      "|             ROBBERY|114506|\n",
      "|   CRIMINAL TRESPASS| 79617|\n",
      "|PUBLIC PEACE VIOL...| 77163|\n",
      "|         SEX OFFENSE| 40139|\n",
      "|OFFENSE INVOLVING...| 23558|\n",
      "|            HOMICIDE|  5315|\n",
      "|          KIDNAPPING|  2202|\n",
      "|CRIMINAL SEXUAL A...|   134|\n",
      "+--------------------+------+\n",
      "\n"
     ]
    }
   ],
   "source": [
    "primaryCount = dataset.groupby('Primary Type').count()\n",
    "primaryCount.orderBy('count', ascending=False).show()"
   ]
  },
  {
   "cell_type": "code",
   "execution_count": 0,
   "metadata": {
    "colab": {
     "base_uri": "https://localhost:8080/",
     "height": 34
    },
    "colab_type": "code",
    "id": "omiJd6kJZxkD",
    "outputId": "09f1457d-4f27-4d66-8242-f6c9ac05950c"
   },
   "outputs": [
    {
     "name": "stdout",
     "output_type": "stream",
     "text": [
      "Distinct primary types after preprocessing 17\n"
     ]
    }
   ],
   "source": [
    "print('Distinct primary types after preprocessing '+ str(primaryCount.distinct().count()))"
   ]
  },
  {
   "cell_type": "markdown",
   "metadata": {
    "colab_type": "text",
    "id": "TQayyfY-BLlZ"
   },
   "source": [
    "**Extract Day, Month, Week from Date Column**"
   ]
  },
  {
   "cell_type": "code",
   "execution_count": 0,
   "metadata": {
    "colab": {
     "base_uri": "https://localhost:8080/",
     "height": 122
    },
    "colab_type": "code",
    "id": "okDarpGxBKln",
    "outputId": "d84a21fe-8e82-41eb-b0d4-c3c7cd7f7eb5"
   },
   "outputs": [
    {
     "data": {
      "text/plain": [
       "[Row(Block='102XX S VERNON AVE', Primary Type='SEX OFFENSE', Location Description='SCHOOL, PUBLIC, BUILDING', Arrest=False, Beat=511, District=5, Ward=9, Community Area=49, Year=2019, Latitude=41.708589, Longitude=-87.612583094, Month=4, WeekDay=4),\n",
       " Row(Block='032XX N KEELER AVE', Primary Type='OFFENSE INVOLVING CHILDREN', Location Description='RESIDENCE', Arrest=False, Beat=1731, District=17, Ward=30, Community Area=16, Year=2019, Latitude=41.940297617, Longitude=-87.732066473, Month=4, WeekDay=6),\n",
       " Row(Block='002XX N LARAMIE AVE', Primary Type='OFFENSE INVOLVING CHILDREN', Location Description='RESIDENCE', Arrest=False, Beat=1532, District=15, Ward=28, Community Area=25, Year=2019, Latitude=41.884865037, Longitude=-87.755230327, Month=4, WeekDay=6),\n",
       " Row(Block='108XX S DR MARTIN LUTHER KING JR DR', Primary Type='BATTERY', Location Description='RESIDENCE', Arrest=False, Beat=513, District=5, Ward=9, Community Area=49, Year=2019, Latitude=41.697609261, Longitude=-87.613507612, Month=4, WeekDay=5),\n",
       " Row(Block='090XX S RACINE AVE', Primary Type='ASSAULT', Location Description='STREET', Arrest=False, Beat=2222, District=22, Ward=21, Community Area=73, Year=2019, Latitude=41.729973132, Longitude=-87.653166753, Month=5, WeekDay=2)]"
      ]
     },
     "execution_count": 19,
     "metadata": {
      "tags": []
     },
     "output_type": "execute_result"
    }
   ],
   "source": [
    "dataset = dataset.withColumn(\"Day\", F.split(dataset.Date, \" \")[0])\n",
    "dataset = dataset.withColumn(\"Day\", F.to_date(dataset.Day, \"MM/dd/yyyy\"))\n",
    "dataset = dataset.withColumn(\"Month\", F.month(dataset.Day))\n",
    "dataset = dataset.withColumn(\"WeekDay\", F.dayofweek(dataset.Day))\n",
    "dataset = dataset.withColumn(\"Year\", F.year(dataset.Day))\n",
    "dataset = dataset.na.drop()\n",
    "dataset = dataset.drop('Date')\n",
    "dataset = dataset.drop('Day')\n",
    "dataset.head(5)"
   ]
  },
  {
   "cell_type": "markdown",
   "metadata": {
    "colab_type": "text",
    "id": "fRffsVR8Dq98"
   },
   "source": [
    "Ignore Latitude and Longitude outside Chichago"
   ]
  },
  {
   "cell_type": "code",
   "execution_count": 0,
   "metadata": {
    "colab": {},
    "colab_type": "code",
    "id": "APNhYAHODp_h"
   },
   "outputs": [],
   "source": [
    "dataset=dataset\\\n",
    "        .filter((dataset[\"Latitude\"] < 45)\n",
    "             & (dataset[\"Latitude\"] > 40)\n",
    "             & (dataset[\"Longitude\"] < -85)\n",
    "             & (dataset[\"Longitude\"] > -90))"
   ]
  },
  {
   "cell_type": "markdown",
   "metadata": {
    "colab_type": "text",
    "id": "4-cNdSzQC4Ip"
   },
   "source": [
    "**Dropping Null values in the data.**"
   ]
  },
  {
   "cell_type": "code",
   "execution_count": 0,
   "metadata": {
    "colab": {},
    "colab_type": "code",
    "id": "XTe8B8MJC2AS"
   },
   "outputs": [],
   "source": [
    "dataset=dataset.na.drop()"
   ]
  },
  {
   "cell_type": "markdown",
   "metadata": {
    "colab_type": "text",
    "id": "Tme-XwPODTAN"
   },
   "source": [
    "Data conversion to Pandas DataFrame for KNN"
   ]
  },
  {
   "cell_type": "code",
   "execution_count": 0,
   "metadata": {
    "colab": {},
    "colab_type": "code",
    "id": "NLoPuAMqDZjb"
   },
   "outputs": [],
   "source": [
    "data = dataset.toPandas()"
   ]
  },
  {
   "cell_type": "code",
   "execution_count": 0,
   "metadata": {
    "colab": {},
    "colab_type": "code",
    "id": "IZ_e5O1GZwVV"
   },
   "outputs": [],
   "source": [
    "# canalso get preprocessed data\n",
    "#data = pd.read_csv('/content/gdrive/My Drive/BigData/preprocessed.csv')"
   ]
  },
  {
   "cell_type": "code",
   "execution_count": 4,
   "metadata": {
    "colab": {
     "base_uri": "https://localhost:8080/",
     "height": 85
    },
    "colab_type": "code",
    "id": "c-WIMqNmnOK8",
    "outputId": "411f53d2-5d09-4083-f5f9-d1c3203e9c3e"
   },
   "outputs": [
    {
     "data": {
      "text/plain": [
       "Index(['Block', 'Primary Type', 'Location Description', 'Arrest', 'Beat',\n",
       "       'District', 'Ward', 'Community Area', 'Year', 'Latitude', 'Longitude',\n",
       "       'Month', 'WeekDay'],\n",
       "      dtype='object')"
      ]
     },
     "execution_count": 4,
     "metadata": {
      "tags": []
     },
     "output_type": "execute_result"
    }
   ],
   "source": [
    "data.columns"
   ]
  },
  {
   "cell_type": "markdown",
   "metadata": {
    "colab_type": "text",
    "id": "EOV6WxSrCZa6"
   },
   "source": [
    "# Data Visualization"
   ]
  },
  {
   "cell_type": "code",
   "execution_count": 0,
   "metadata": {
    "colab": {},
    "colab_type": "code",
    "id": "jERt_VqwtM_T"
   },
   "outputs": [],
   "source": [
    "primaryVisualizeDF = data.groupby('Primary Type').size()"
   ]
  },
  {
   "cell_type": "code",
   "execution_count": 0,
   "metadata": {
    "colab": {
     "base_uri": "https://localhost:8080/",
     "height": 877
    },
    "colab_type": "code",
    "id": "qiP9cKNwnZk4",
    "outputId": "26de8b58-9e36-4b87-f78f-aa1e31658d5c"
   },
   "outputs": [
    {
     "data": {
      "text/plain": [
       "<matplotlib.legend.Legend at 0x7fa1805f54e0>"
      ]
     },
     "execution_count": 25,
     "metadata": {
      "tags": []
     },
     "output_type": "execute_result"
    },
    {
     "data": {
      "image/png": "[encoded data removed]",
      "text/plain": [
       "<Figure size 1080x1080 with 1 Axes>"
      ]
     },
     "metadata": {
      "tags": []
     },
     "output_type": "display_data"
    }
   ],
   "source": [
    "primaryVisualizeDF.plot.pie(figsize = (15,15))\n",
    "plt.xlabel('Primary Crime Type', fontsize=10, color = 'red')\n",
    "plt.legend()"
   ]
  },
  {
   "cell_type": "markdown",
   "metadata": {
    "colab_type": "text",
    "id": "0NfWBnYbo5lF"
   },
   "source": [
    "# Preprocessing - specific to KNN model"
   ]
  },
  {
   "cell_type": "code",
   "execution_count": 0,
   "metadata": {
    "colab": {},
    "colab_type": "code",
    "id": "7M_Ivuz9o_ki"
   },
   "outputs": [],
   "source": [
    "data = data.replace(to_replace='None', value=np.nan).dropna()"
   ]
  },
  {
   "cell_type": "markdown",
   "metadata": {
    "colab_type": "text",
    "id": "j-AUAD6kEmE6"
   },
   "source": [
    "**Label Encoding categorical variables**"
   ]
  },
  {
   "cell_type": "code",
   "execution_count": 0,
   "metadata": {
    "colab": {},
    "colab_type": "code",
    "id": "yooPDB8UpshD"
   },
   "outputs": [],
   "source": [
    "# create an instance of label encoder for categorical variables\n",
    "labelEncoder = LabelEncoder()"
   ]
  },
  {
   "cell_type": "code",
   "execution_count": 7,
   "metadata": {
    "colab": {
     "base_uri": "https://localhost:8080/",
     "height": 34
    },
    "colab_type": "code",
    "id": "eGJv5m6Epsj4",
    "outputId": "15426eb0-174a-47b9-a644-b6f140151268"
   },
   "outputs": [
    {
     "data": {
      "text/plain": [
       "array([15, 11, 11, ..., 12,  7,  7])"
      ]
     },
     "execution_count": 7,
     "metadata": {
      "tags": []
     },
     "output_type": "execute_result"
    }
   ],
   "source": [
    "primaryEncoded = labelEncoder.fit_transform(data['Primary Type'])\n",
    "primaryEncoded"
   ]
  },
  {
   "cell_type": "code",
   "execution_count": 0,
   "metadata": {
    "colab": {},
    "colab_type": "code",
    "id": "FkEr_rF0E1HA"
   },
   "outputs": [],
   "source": [
    "data['Primary Type'] = primaryEncoded"
   ]
  },
  {
   "cell_type": "code",
   "execution_count": 0,
   "metadata": {
    "colab": {},
    "colab_type": "code",
    "id": "PHS5WH8hE1OZ"
   },
   "outputs": [],
   "source": [
    "# create an instance of label encoder for categorical variables\n",
    "labelEncoder2 = LabelEncoder()"
   ]
  },
  {
   "cell_type": "code",
   "execution_count": 10,
   "metadata": {
    "colab": {
     "base_uri": "https://localhost:8080/",
     "height": 34
    },
    "colab_type": "code",
    "id": "N1pzLR1aE1R6",
    "outputId": "b3b3a64d-785c-4316-95c8-321070118a02"
   },
   "outputs": [
    {
     "data": {
      "text/plain": [
       "array([153, 133, 133, ...,  17,  37, 160])"
      ]
     },
     "execution_count": 10,
     "metadata": {
      "tags": []
     },
     "output_type": "execute_result"
    }
   ],
   "source": [
    "locDiscEncoded = labelEncoder2.fit_transform(data['Location Description'])\n",
    "locDiscEncoded"
   ]
  },
  {
   "cell_type": "code",
   "execution_count": 0,
   "metadata": {
    "colab": {},
    "colab_type": "code",
    "id": "X0Gk-8F2E1Uj"
   },
   "outputs": [],
   "source": [
    "data['Location Description'] = locDiscEncoded"
   ]
  },
  {
   "cell_type": "code",
   "execution_count": 0,
   "metadata": {
    "colab": {},
    "colab_type": "code",
    "id": "LrlUH5XBE1Xj"
   },
   "outputs": [],
   "source": [
    "# create an instance of label encoder for categorical variables\n",
    "labelEncoder3 = LabelEncoder()"
   ]
  },
  {
   "cell_type": "code",
   "execution_count": 13,
   "metadata": {
    "colab": {
     "base_uri": "https://localhost:8080/",
     "height": 34
    },
    "colab_type": "code",
    "id": "Ir7CFjc99Dpp",
    "outputId": "f7102240-d511-4558-a334-9a502fb5aa4a"
   },
   "outputs": [
    {
     "data": {
      "text/plain": [
       "array([153, 133, 133, ...,  17,  37, 160])"
      ]
     },
     "execution_count": 13,
     "metadata": {
      "tags": []
     },
     "output_type": "execute_result"
    }
   ],
   "source": [
    "blockEncoded = labelEncoder2.fit_transform(data['Location Description'])\n",
    "blockEncoded"
   ]
  },
  {
   "cell_type": "code",
   "execution_count": 0,
   "metadata": {
    "colab": {},
    "colab_type": "code",
    "id": "iRrRRxPv9H8G"
   },
   "outputs": [],
   "source": [
    "data['Block'] = locDiscEncoded"
   ]
  },
  {
   "cell_type": "markdown",
   "metadata": {
    "colab_type": "text",
    "id": "RYLVQ8Hq77UB"
   },
   "source": [
    "Use PCA to combine features"
   ]
  },
  {
   "cell_type": "code",
   "execution_count": 0,
   "metadata": {
    "colab": {},
    "colab_type": "code",
    "id": "c5tfxiBO76m0"
   },
   "outputs": [],
   "source": [
    "from sklearn.decomposition import PCA"
   ]
  },
  {
   "cell_type": "code",
   "execution_count": 0,
   "metadata": {
    "colab": {},
    "colab_type": "code",
    "id": "qpMwQxRl8Cmt"
   },
   "outputs": [],
   "source": [
    "location = data[['Latitude','Longitude']]\n",
    "pca = PCA(n_components=1,random_state=123)"
   ]
  },
  {
   "cell_type": "code",
   "execution_count": 0,
   "metadata": {
    "colab": {},
    "colab_type": "code",
    "id": "KhqBnkvo8Cwt"
   },
   "outputs": [],
   "source": [
    "loc = pca.fit_transform(location)"
   ]
  },
  {
   "cell_type": "code",
   "execution_count": 0,
   "metadata": {
    "colab": {},
    "colab_type": "code",
    "id": "oTe1FyvY8C5q"
   },
   "outputs": [],
   "source": [
    "data['Location'] = loc"
   ]
  },
  {
   "cell_type": "code",
   "execution_count": 19,
   "metadata": {
    "colab": {
     "base_uri": "https://localhost:8080/",
     "height": 204
    },
    "colab_type": "code",
    "id": "PzHGyFe19r1j",
    "outputId": "679dbef2-038e-4de8-e79d-faa827dcbe22"
   },
   "outputs": [
    {
     "data": {
      "text/html": [
       "<div>\n",
       "<style scoped>\n",
       "    .dataframe tbody tr th:only-of-type {\n",
       "        vertical-align: middle;\n",
       "    }\n",
       "\n",
       "    .dataframe tbody tr th {\n",
       "        vertical-align: top;\n",
       "    }\n",
       "\n",
       "    .dataframe thead th {\n",
       "        text-align: right;\n",
       "    }\n",
       "</style>\n",
       "<table border=\"1\" class=\"dataframe\">\n",
       "  <thead>\n",
       "    <tr style=\"text-align: right;\">\n",
       "      <th></th>\n",
       "      <th>Block</th>\n",
       "      <th>Primary Type</th>\n",
       "      <th>Location Description</th>\n",
       "      <th>Arrest</th>\n",
       "      <th>Beat</th>\n",
       "      <th>District</th>\n",
       "      <th>Ward</th>\n",
       "      <th>Community Area</th>\n",
       "      <th>Year</th>\n",
       "      <th>Latitude</th>\n",
       "      <th>Longitude</th>\n",
       "      <th>Month</th>\n",
       "      <th>WeekDay</th>\n",
       "      <th>Location</th>\n",
       "    </tr>\n",
       "  </thead>\n",
       "  <tbody>\n",
       "    <tr>\n",
       "      <th>0</th>\n",
       "      <td>153</td>\n",
       "      <td>15</td>\n",
       "      <td>153</td>\n",
       "      <td>False</td>\n",
       "      <td>511</td>\n",
       "      <td>5</td>\n",
       "      <td>9</td>\n",
       "      <td>49</td>\n",
       "      <td>2019</td>\n",
       "      <td>41.708589</td>\n",
       "      <td>-87.612583</td>\n",
       "      <td>4</td>\n",
       "      <td>4</td>\n",
       "      <td>-0.145575</td>\n",
       "    </tr>\n",
       "    <tr>\n",
       "      <th>1</th>\n",
       "      <td>133</td>\n",
       "      <td>11</td>\n",
       "      <td>133</td>\n",
       "      <td>False</td>\n",
       "      <td>1731</td>\n",
       "      <td>17</td>\n",
       "      <td>30</td>\n",
       "      <td>16</td>\n",
       "      <td>2019</td>\n",
       "      <td>41.940298</td>\n",
       "      <td>-87.732066</td>\n",
       "      <td>4</td>\n",
       "      <td>6</td>\n",
       "      <td>0.115124</td>\n",
       "    </tr>\n",
       "    <tr>\n",
       "      <th>2</th>\n",
       "      <td>133</td>\n",
       "      <td>11</td>\n",
       "      <td>133</td>\n",
       "      <td>False</td>\n",
       "      <td>1532</td>\n",
       "      <td>15</td>\n",
       "      <td>28</td>\n",
       "      <td>25</td>\n",
       "      <td>2019</td>\n",
       "      <td>41.884865</td>\n",
       "      <td>-87.755230</td>\n",
       "      <td>4</td>\n",
       "      <td>6</td>\n",
       "      <td>0.076679</td>\n",
       "    </tr>\n",
       "    <tr>\n",
       "      <th>3</th>\n",
       "      <td>133</td>\n",
       "      <td>1</td>\n",
       "      <td>133</td>\n",
       "      <td>False</td>\n",
       "      <td>513</td>\n",
       "      <td>5</td>\n",
       "      <td>9</td>\n",
       "      <td>49</td>\n",
       "      <td>2019</td>\n",
       "      <td>41.697609</td>\n",
       "      <td>-87.613508</td>\n",
       "      <td>4</td>\n",
       "      <td>5</td>\n",
       "      <td>-0.154883</td>\n",
       "    </tr>\n",
       "    <tr>\n",
       "      <th>4</th>\n",
       "      <td>160</td>\n",
       "      <td>0</td>\n",
       "      <td>160</td>\n",
       "      <td>False</td>\n",
       "      <td>2222</td>\n",
       "      <td>22</td>\n",
       "      <td>21</td>\n",
       "      <td>73</td>\n",
       "      <td>2019</td>\n",
       "      <td>41.729973</td>\n",
       "      <td>-87.653167</td>\n",
       "      <td>5</td>\n",
       "      <td>2</td>\n",
       "      <td>-0.107851</td>\n",
       "    </tr>\n",
       "  </tbody>\n",
       "</table>\n",
       "</div>"
      ],
      "text/plain": [
       "   Block  Primary Type  Location Description  ...  Month  WeekDay  Location\n",
       "0    153            15                   153  ...      4        4 -0.145575\n",
       "1    133            11                   133  ...      4        6  0.115124\n",
       "2    133            11                   133  ...      4        6  0.076679\n",
       "3    133             1                   133  ...      4        5 -0.154883\n",
       "4    160             0                   160  ...      5        2 -0.107851\n",
       "\n",
       "[5 rows x 14 columns]"
      ]
     },
     "execution_count": 19,
     "metadata": {
      "tags": []
     },
     "output_type": "execute_result"
    }
   ],
   "source": [
    "data.head(5)"
   ]
  },
  {
   "cell_type": "markdown",
   "metadata": {
    "colab_type": "text",
    "id": "NAls2rbv85K1"
   },
   "source": [
    "# Feature selection"
   ]
  },
  {
   "cell_type": "markdown",
   "metadata": {
    "colab_type": "text",
    "id": "0a-ZhV__HtFD"
   },
   "source": [
    "Checking importance of features using an ExtraTreesClassifier"
   ]
  },
  {
   "cell_type": "code",
   "execution_count": 0,
   "metadata": {
    "colab": {},
    "colab_type": "code",
    "id": "RrrUv-YSH50B"
   },
   "outputs": [],
   "source": [
    "#taking a fraction of data\n",
    "data_sample = data.sample(frac=0.1, random_state=123)"
   ]
  },
  {
   "cell_type": "code",
   "execution_count": 0,
   "metadata": {
    "colab": {},
    "colab_type": "code",
    "id": "PvDJStjSbexb"
   },
   "outputs": [],
   "source": [
    "\n",
    "from sklearn.ensemble import ExtraTreesClassifier\n",
    "import matplotlib.pyplot as plt\n",
    "model = ExtraTreesClassifier()"
   ]
  },
  {
   "cell_type": "code",
   "execution_count": 0,
   "metadata": {
    "colab": {
     "base_uri": "https://localhost:8080/",
     "height": 153
    },
    "colab_type": "code",
    "id": "2P-tEnnReE6v",
    "outputId": "698fee0f-ef9c-45da-e4cc-1d7a601d8fbe"
   },
   "outputs": [
    {
     "data": {
      "text/plain": [
       "ExtraTreesClassifier(bootstrap=False, ccp_alpha=0.0, class_weight=None,\n",
       "                     criterion='gini', max_depth=None, max_features='auto',\n",
       "                     max_leaf_nodes=None, max_samples=None,\n",
       "                     min_impurity_decrease=0.0, min_impurity_split=None,\n",
       "                     min_samples_leaf=1, min_samples_split=2,\n",
       "                     min_weight_fraction_leaf=0.0, n_estimators=100,\n",
       "                     n_jobs=None, oob_score=False, random_state=None, verbose=0,\n",
       "                     warm_start=False)"
      ]
     },
     "execution_count": 43,
     "metadata": {
      "tags": []
     },
     "output_type": "execute_result"
    }
   ],
   "source": [
    "\n",
    "X = data_sample.loc[:, data.columns != 'Primary Type']\n",
    "\n",
    "model.fit(X,data_sample['Primary Type'])"
   ]
  },
  {
   "cell_type": "code",
   "execution_count": 0,
   "metadata": {
    "colab": {
     "base_uri": "https://localhost:8080/",
     "height": 68
    },
    "colab_type": "code",
    "id": "GBN2AhSoIP7q",
    "outputId": "9a57ba68-04e7-4add-e6d3-ef14db455bc1"
   },
   "outputs": [
    {
     "name": "stdout",
     "output_type": "stream",
     "text": [
      "[0.06169809 0.06135702 0.04334372 0.06090417 0.01233077 0.03363271\n",
      " 0.02964117 0.0924888  0.13077371 0.13091272 0.11603264 0.09655789\n",
      " 0.13032659]\n"
     ]
    }
   ],
   "source": [
    "print(model.feature_importances_) #use inbuilt class feature_importances of tree based classifiers"
   ]
  },
  {
   "cell_type": "code",
   "execution_count": 0,
   "metadata": {
    "colab": {
     "base_uri": "https://localhost:8080/",
     "height": 265
    },
    "colab_type": "code",
    "id": "wOsnxIEiIP_R",
    "outputId": "7c906267-3ce9-4491-d810-5a79a2f72e6a"
   },
   "outputs": [
    {
     "data": {
      "image/png": "[encoded data removed]",
      "text/plain": [
       "<Figure size 432x288 with 1 Axes>"
      ]
     },
     "metadata": {
      "tags": []
     },
     "output_type": "display_data"
    }
   ],
   "source": [
    "#plot graph of feature importances for better visualization\n",
    "feat_importances = pd.Series(model.feature_importances_, index=X.columns)\n",
    "#plot for top 10 features\n",
    "feat_importances.nlargest(10).plot(kind='barh')\n",
    "plt.show()"
   ]
  },
  {
   "cell_type": "markdown",
   "metadata": {
    "colab_type": "text",
    "id": "D1NYiNgzIS-4"
   },
   "source": [
    "Find corelation between data to find dependency between data columns"
   ]
  },
  {
   "cell_type": "code",
   "execution_count": 0,
   "metadata": {
    "colab": {
     "base_uri": "https://localhost:8080/",
     "height": 483
    },
    "colab_type": "code",
    "id": "dEVrHIVE0a4R",
    "outputId": "04797670-c057-45f6-b7e0-e206a0652598"
   },
   "outputs": [
    {
     "data": {
      "text/html": [
       "<div>\n",
       "<style scoped>\n",
       "    .dataframe tbody tr th:only-of-type {\n",
       "        vertical-align: middle;\n",
       "    }\n",
       "\n",
       "    .dataframe tbody tr th {\n",
       "        vertical-align: top;\n",
       "    }\n",
       "\n",
       "    .dataframe thead th {\n",
       "        text-align: right;\n",
       "    }\n",
       "</style>\n",
       "<table border=\"1\" class=\"dataframe\">\n",
       "  <thead>\n",
       "    <tr style=\"text-align: right;\">\n",
       "      <th></th>\n",
       "      <th>Block</th>\n",
       "      <th>Primary Type</th>\n",
       "      <th>Location Description</th>\n",
       "      <th>Arrest</th>\n",
       "      <th>Beat</th>\n",
       "      <th>District</th>\n",
       "      <th>Ward</th>\n",
       "      <th>Community Area</th>\n",
       "      <th>Year</th>\n",
       "      <th>Latitude</th>\n",
       "      <th>Longitude</th>\n",
       "      <th>Month</th>\n",
       "      <th>WeekDay</th>\n",
       "      <th>Location</th>\n",
       "    </tr>\n",
       "  </thead>\n",
       "  <tbody>\n",
       "    <tr>\n",
       "      <th>Block</th>\n",
       "      <td>1.000000</td>\n",
       "      <td>0.115127</td>\n",
       "      <td>1.000000</td>\n",
       "      <td>0.038168</td>\n",
       "      <td>0.014515</td>\n",
       "      <td>0.015081</td>\n",
       "      <td>-0.012151</td>\n",
       "      <td>0.012447</td>\n",
       "      <td>-0.029853</td>\n",
       "      <td>-0.038756</td>\n",
       "      <td>-0.015944</td>\n",
       "      <td>0.003408</td>\n",
       "      <td>0.002120</td>\n",
       "      <td>-0.026781</td>\n",
       "    </tr>\n",
       "    <tr>\n",
       "      <th>Primary Type</th>\n",
       "      <td>0.115127</td>\n",
       "      <td>1.000000</td>\n",
       "      <td>0.115127</td>\n",
       "      <td>0.039843</td>\n",
       "      <td>0.037460</td>\n",
       "      <td>0.035517</td>\n",
       "      <td>0.069905</td>\n",
       "      <td>-0.083323</td>\n",
       "      <td>-0.002116</td>\n",
       "      <td>0.087253</td>\n",
       "      <td>0.001026</td>\n",
       "      <td>0.007367</td>\n",
       "      <td>0.013911</td>\n",
       "      <td>0.070426</td>\n",
       "    </tr>\n",
       "    <tr>\n",
       "      <th>Location Description</th>\n",
       "      <td>1.000000</td>\n",
       "      <td>0.115127</td>\n",
       "      <td>1.000000</td>\n",
       "      <td>0.038168</td>\n",
       "      <td>0.014515</td>\n",
       "      <td>0.015081</td>\n",
       "      <td>-0.012151</td>\n",
       "      <td>0.012447</td>\n",
       "      <td>-0.029853</td>\n",
       "      <td>-0.038756</td>\n",
       "      <td>-0.015944</td>\n",
       "      <td>0.003408</td>\n",
       "      <td>0.002120</td>\n",
       "      <td>-0.026781</td>\n",
       "    </tr>\n",
       "    <tr>\n",
       "      <th>Arrest</th>\n",
       "      <td>0.038168</td>\n",
       "      <td>0.039843</td>\n",
       "      <td>0.038168</td>\n",
       "      <td>1.000000</td>\n",
       "      <td>-0.025085</td>\n",
       "      <td>-0.023351</td>\n",
       "      <td>-0.015733</td>\n",
       "      <td>0.020868</td>\n",
       "      <td>-0.064911</td>\n",
       "      <td>-0.026120</td>\n",
       "      <td>-0.034763</td>\n",
       "      <td>-0.030939</td>\n",
       "      <td>0.004530</td>\n",
       "      <td>-0.011070</td>\n",
       "    </tr>\n",
       "    <tr>\n",
       "      <th>Beat</th>\n",
       "      <td>0.014515</td>\n",
       "      <td>0.037460</td>\n",
       "      <td>0.014515</td>\n",
       "      <td>-0.025085</td>\n",
       "      <td>1.000000</td>\n",
       "      <td>0.980212</td>\n",
       "      <td>0.658243</td>\n",
       "      <td>-0.495143</td>\n",
       "      <td>-0.032528</td>\n",
       "      <td>0.634641</td>\n",
       "      <td>-0.532460</td>\n",
       "      <td>0.000218</td>\n",
       "      <td>0.002940</td>\n",
       "      <td>0.669146</td>\n",
       "    </tr>\n",
       "    <tr>\n",
       "      <th>District</th>\n",
       "      <td>0.015081</td>\n",
       "      <td>0.035517</td>\n",
       "      <td>0.015081</td>\n",
       "      <td>-0.023351</td>\n",
       "      <td>0.980212</td>\n",
       "      <td>1.000000</td>\n",
       "      <td>0.676552</td>\n",
       "      <td>-0.493580</td>\n",
       "      <td>-0.010671</td>\n",
       "      <td>0.638714</td>\n",
       "      <td>-0.552366</td>\n",
       "      <td>0.001527</td>\n",
       "      <td>0.002900</td>\n",
       "      <td>0.678232</td>\n",
       "    </tr>\n",
       "    <tr>\n",
       "      <th>Ward</th>\n",
       "      <td>-0.012151</td>\n",
       "      <td>0.069905</td>\n",
       "      <td>-0.012151</td>\n",
       "      <td>-0.015733</td>\n",
       "      <td>0.658243</td>\n",
       "      <td>0.676552</td>\n",
       "      <td>1.000000</td>\n",
       "      <td>-0.537736</td>\n",
       "      <td>0.016116</td>\n",
       "      <td>0.659018</td>\n",
       "      <td>-0.448022</td>\n",
       "      <td>0.005010</td>\n",
       "      <td>0.007056</td>\n",
       "      <td>0.664368</td>\n",
       "    </tr>\n",
       "    <tr>\n",
       "      <th>Community Area</th>\n",
       "      <td>0.012447</td>\n",
       "      <td>-0.083323</td>\n",
       "      <td>0.012447</td>\n",
       "      <td>0.020868</td>\n",
       "      <td>-0.495143</td>\n",
       "      <td>-0.493580</td>\n",
       "      <td>-0.537736</td>\n",
       "      <td>1.000000</td>\n",
       "      <td>-0.023129</td>\n",
       "      <td>-0.776675</td>\n",
       "      <td>0.246489</td>\n",
       "      <td>-0.007679</td>\n",
       "      <td>-0.008425</td>\n",
       "      <td>-0.701172</td>\n",
       "    </tr>\n",
       "    <tr>\n",
       "      <th>Year</th>\n",
       "      <td>-0.029853</td>\n",
       "      <td>-0.002116</td>\n",
       "      <td>-0.029853</td>\n",
       "      <td>-0.064911</td>\n",
       "      <td>-0.032528</td>\n",
       "      <td>-0.010671</td>\n",
       "      <td>0.016116</td>\n",
       "      <td>-0.023129</td>\n",
       "      <td>1.000000</td>\n",
       "      <td>0.014542</td>\n",
       "      <td>0.012898</td>\n",
       "      <td>0.006959</td>\n",
       "      <td>-0.002125</td>\n",
       "      <td>0.008039</td>\n",
       "    </tr>\n",
       "    <tr>\n",
       "      <th>Latitude</th>\n",
       "      <td>-0.038756</td>\n",
       "      <td>0.087253</td>\n",
       "      <td>-0.038756</td>\n",
       "      <td>-0.026120</td>\n",
       "      <td>0.634641</td>\n",
       "      <td>0.638714</td>\n",
       "      <td>0.659018</td>\n",
       "      <td>-0.776675</td>\n",
       "      <td>0.014542</td>\n",
       "      <td>1.000000</td>\n",
       "      <td>-0.548820</td>\n",
       "      <td>0.005587</td>\n",
       "      <td>0.006862</td>\n",
       "      <td>0.970047</td>\n",
       "    </tr>\n",
       "    <tr>\n",
       "      <th>Longitude</th>\n",
       "      <td>-0.015944</td>\n",
       "      <td>0.001026</td>\n",
       "      <td>-0.015944</td>\n",
       "      <td>-0.034763</td>\n",
       "      <td>-0.532460</td>\n",
       "      <td>-0.552366</td>\n",
       "      <td>-0.448022</td>\n",
       "      <td>0.246489</td>\n",
       "      <td>0.012898</td>\n",
       "      <td>-0.548820</td>\n",
       "      <td>1.000000</td>\n",
       "      <td>0.004854</td>\n",
       "      <td>0.000994</td>\n",
       "      <td>-0.735447</td>\n",
       "    </tr>\n",
       "    <tr>\n",
       "      <th>Month</th>\n",
       "      <td>0.003408</td>\n",
       "      <td>0.007367</td>\n",
       "      <td>0.003408</td>\n",
       "      <td>-0.030939</td>\n",
       "      <td>0.000218</td>\n",
       "      <td>0.001527</td>\n",
       "      <td>0.005010</td>\n",
       "      <td>-0.007679</td>\n",
       "      <td>0.006959</td>\n",
       "      <td>0.005587</td>\n",
       "      <td>0.004854</td>\n",
       "      <td>1.000000</td>\n",
       "      <td>-0.002822</td>\n",
       "      <td>0.003118</td>\n",
       "    </tr>\n",
       "    <tr>\n",
       "      <th>WeekDay</th>\n",
       "      <td>0.002120</td>\n",
       "      <td>0.013911</td>\n",
       "      <td>0.002120</td>\n",
       "      <td>0.004530</td>\n",
       "      <td>0.002940</td>\n",
       "      <td>0.002900</td>\n",
       "      <td>0.007056</td>\n",
       "      <td>-0.008425</td>\n",
       "      <td>-0.002125</td>\n",
       "      <td>0.006862</td>\n",
       "      <td>0.000994</td>\n",
       "      <td>-0.002822</td>\n",
       "      <td>1.000000</td>\n",
       "      <td>0.005273</td>\n",
       "    </tr>\n",
       "    <tr>\n",
       "      <th>Location</th>\n",
       "      <td>-0.026781</td>\n",
       "      <td>0.070426</td>\n",
       "      <td>-0.026781</td>\n",
       "      <td>-0.011070</td>\n",
       "      <td>0.669146</td>\n",
       "      <td>0.678232</td>\n",
       "      <td>0.664368</td>\n",
       "      <td>-0.701172</td>\n",
       "      <td>0.008039</td>\n",
       "      <td>0.970047</td>\n",
       "      <td>-0.735447</td>\n",
       "      <td>0.003118</td>\n",
       "      <td>0.005273</td>\n",
       "      <td>1.000000</td>\n",
       "    </tr>\n",
       "  </tbody>\n",
       "</table>\n",
       "</div>"
      ],
      "text/plain": [
       "                         Block  Primary Type  ...   WeekDay  Location\n",
       "Block                 1.000000      0.115127  ...  0.002120 -0.026781\n",
       "Primary Type          0.115127      1.000000  ...  0.013911  0.070426\n",
       "Location Description  1.000000      0.115127  ...  0.002120 -0.026781\n",
       "Arrest                0.038168      0.039843  ...  0.004530 -0.011070\n",
       "Beat                  0.014515      0.037460  ...  0.002940  0.669146\n",
       "District              0.015081      0.035517  ...  0.002900  0.678232\n",
       "Ward                 -0.012151      0.069905  ...  0.007056  0.664368\n",
       "Community Area        0.012447     -0.083323  ... -0.008425 -0.701172\n",
       "Year                 -0.029853     -0.002116  ... -0.002125  0.008039\n",
       "Latitude             -0.038756      0.087253  ...  0.006862  0.970047\n",
       "Longitude            -0.015944      0.001026  ...  0.000994 -0.735447\n",
       "Month                 0.003408      0.007367  ... -0.002822  0.003118\n",
       "WeekDay               0.002120      0.013911  ...  1.000000  0.005273\n",
       "Location             -0.026781      0.070426  ...  0.005273  1.000000\n",
       "\n",
       "[14 rows x 14 columns]"
      ]
     },
     "execution_count": 46,
     "metadata": {
      "tags": []
     },
     "output_type": "execute_result"
    }
   ],
   "source": [
    "corelation = data.corr()\n",
    "corelation"
   ]
  },
  {
   "cell_type": "code",
   "execution_count": 0,
   "metadata": {
    "colab": {
     "base_uri": "https://localhost:8080/",
     "height": 379
    },
    "colab_type": "code",
    "id": "ich52B9_56bj",
    "outputId": "2d736df5-c154-4b8b-f8e4-94dde7a255ef"
   },
   "outputs": [
    {
     "data": {
      "text/plain": [
       "<matplotlib.axes._subplots.AxesSubplot at 0x7fb86830f1d0>"
      ]
     },
     "execution_count": 47,
     "metadata": {
      "tags": []
     },
     "output_type": "execute_result"
    },
    {
     "data": {
      "image/png": "[encoded data removed]",
      "text/plain": [
       "<Figure size 432x288 with 2 Axes>"
      ]
     },
     "metadata": {
      "tags": []
     },
     "output_type": "display_data"
    }
   ],
   "source": [
    "sns.heatmap(corelation)"
   ]
  },
  {
   "cell_type": "markdown",
   "metadata": {
    "colab_type": "text",
    "id": "1JA7hzJdIdL9"
   },
   "source": [
    "**Based on the above outputs, we have decided that below selected columns are corelated and best params for our KNN model**"
   ]
  },
  {
   "cell_type": "code",
   "execution_count": 0,
   "metadata": {
    "colab": {},
    "colab_type": "code",
    "id": "PTZVuEeT7Bvk"
   },
   "outputs": [],
   "source": [
    "selected_columns = ['Latitude','Longitude','Location Description','Block','WeekDay']\n",
    "#selected_columns = ['Latitude','Longitude']"
   ]
  },
  {
   "cell_type": "markdown",
   "metadata": {
    "colab_type": "text",
    "id": "yw4G3d0nIzwt"
   },
   "source": [
    "# Splitting data in train and test"
   ]
  },
  {
   "cell_type": "code",
   "execution_count": 0,
   "metadata": {
    "colab": {},
    "colab_type": "code",
    "id": "XZxGgyyRTzMx"
   },
   "outputs": [],
   "source": [
    "from sklearn.model_selection import train_test_split\n",
    "X_train, X_test, y_train, y_test = train_test_split(data[selected_columns], data['Primary Type'], test_size=0.3) # 70% training and 30% test"
   ]
  },
  {
   "cell_type": "markdown",
   "metadata": {
    "colab_type": "text",
    "id": "GTPfW61XMOcS"
   },
   "source": [
    "# Building initial KNN Classifier"
   ]
  },
  {
   "cell_type": "markdown",
   "metadata": {
    "colab_type": "text",
    "id": "aCMouQWeJYlA"
   },
   "source": [
    "**Initially we will build our classifier with 5 neighbours**"
   ]
  },
  {
   "cell_type": "code",
   "execution_count": 0,
   "metadata": {
    "colab": {
     "base_uri": "https://localhost:8080/",
     "height": 68
    },
    "colab_type": "code",
    "id": "jacj4SuDJjIG",
    "outputId": "8f7eb4bb-5e86-41b9-da26-12f0f2799b4e"
   },
   "outputs": [
    {
     "name": "stdout",
     "output_type": "stream",
     "text": [
      "Test accuracy  0.4785072963503379\n",
      "Accuracy  0.2894782043888117\n",
      "F1 score  0.28138838412651623\n"
     ]
    }
   ],
   "source": [
    "knn_5 = KNeighborsClassifier(n_neighbors=5) \n",
    "knn_5.fit(X_train,y_train)\n",
    "pred_train = knn_5.predict(X_train)\n",
    "pred_i = knn_5.predict(X_test)\n",
    "print('Test accuracy ', metrics.accuracy_score(y_train, pred_train))\n",
    "print('Accuracy ', metrics.accuracy_score(y_test, pred_i))\n",
    "print('F1 score ', metrics.f1_score(y_test, pred_i, average = 'weighted'))"
   ]
  },
  {
   "cell_type": "markdown",
   "metadata": {
    "colab_type": "text",
    "id": "7vCct7d0J3_M"
   },
   "source": [
    "We will deploy Elbow method to get optimum number of neighbours"
   ]
  },
  {
   "cell_type": "code",
   "execution_count": 0,
   "metadata": {
    "colab": {
     "base_uri": "https://localhost:8080/",
     "height": 561
    },
    "colab_type": "code",
    "id": "93dyhWUn7hg8",
    "outputId": "32046abf-c7ef-4212-9aa7-163d1667b707"
   },
   "outputs": [
    {
     "name": "stdout",
     "output_type": "stream",
     "text": [
      "Neighbours  10\n",
      "Test accuracy  0.42483123548737317\n",
      "Accuracy  0.3126940196724146\n",
      "F1 score  0.29331483794081864\n",
      "Neighbours  15\n",
      "Test accuracy  0.40340458973172694\n",
      "Accuracy  0.3230170890878047\n",
      "F1 score  0.29645248056689477\n",
      "Neighbours  20\n",
      "Test accuracy  0.3914327542826722\n",
      "Accuracy  0.3290732898115002\n",
      "F1 score  0.297561296424232\n",
      "Neighbours  25\n",
      "Test accuracy  0.38360282191523043\n",
      "Accuracy  0.3323743969678045\n",
      "F1 score  0.2969661610892852\n",
      "Neighbours  30\n",
      "Test accuracy  0.37859655982188256\n",
      "Accuracy  0.3349372482507658\n",
      "F1 score  0.29666538069152276\n",
      "Neighbours  35\n",
      "Test accuracy  0.3746784248092974\n",
      "Accuracy  0.33626815637374174\n",
      "F1 score  0.29599169369921274\n",
      "Neighbours  40\n",
      "Test accuracy  0.3714603572196403\n",
      "Accuracy  0.33748417413738385\n",
      "F1 score  0.2952621272392315\n",
      "Neighbours  45\n",
      "Test accuracy  0.36888678066975394\n",
      "Accuracy  0.3387456930334354\n",
      "F1 score  0.2949948644357232\n"
     ]
    }
   ],
   "source": [
    "error_rate = []\n",
    "\n",
    "krange = range(10,50,5)\n",
    "for i in krange:\n",
    " \n",
    " knn = KNeighborsClassifier(n_neighbors=i, metric='manhattan', weights = 'uniform',n_jobs= -1) # haversine - if only lat long\n",
    " knn.fit(X_train,y_train)\n",
    " pred_train = knn.predict(X_train)\n",
    " pred_i = knn.predict(X_test)\n",
    " error_rate.append(np.mean(pred_i != y_test))\n",
    " print('Neighbours ',i)\n",
    " print('Test accuracy ', metrics.accuracy_score(y_train, pred_train))\n",
    " print('Accuracy ', metrics.accuracy_score(y_test, pred_i))\n",
    " print('F1 score ', metrics.f1_score(y_test, pred_i, average = 'weighted'))"
   ]
  },
  {
   "cell_type": "code",
   "execution_count": 0,
   "metadata": {
    "colab": {
     "base_uri": "https://localhost:8080/",
     "height": 421
    },
    "colab_type": "code",
    "id": "INxBFggjYpvT",
    "outputId": "a638370a-0048-4d2a-e1b4-7000aef4b060"
   },
   "outputs": [
    {
     "data": {
      "text/plain": [
       "Text(0, 0.5, 'Error Rate')"
      ]
     },
     "execution_count": 96,
     "metadata": {
      "tags": []
     },
     "output_type": "execute_result"
    },
    {
     "data": {
      "image/png": "[encoded data removed]",
      "text/plain": [
       "<Figure size 720x432 with 1 Axes>"
      ]
     },
     "metadata": {
      "tags": []
     },
     "output_type": "display_data"
    }
   ],
   "source": [
    "plt.figure(figsize=(10,6))\n",
    "\n",
    "plt.plot(krange,error_rate, color= 'blue', linestyle= 'dashed', marker= 'o', markerfacecolor='red', markersize=1)\n",
    "plt.title('Error Rate vs. K Value')\n",
    "plt.xlabel('K')\n",
    "plt.ylabel('Error Rate')"
   ]
  },
  {
   "cell_type": "markdown",
   "metadata": {
    "colab_type": "text",
    "id": "QeFOAYSDLAvk"
   },
   "source": [
    "K = 25, optimum"
   ]
  },
  {
   "cell_type": "markdown",
   "metadata": {
    "colab_type": "text",
    "id": "9rgflDkWzlJi"
   },
   "source": [
    "# Grid Search/ Random Search -KNN"
   ]
  },
  {
   "cell_type": "markdown",
   "metadata": {
    "colab_type": "text",
    "id": "b9E1ubKeVJmK"
   },
   "source": [
    "**To find optimal paramteres for KNN Model, we will implement Grid search.**"
   ]
  },
  {
   "cell_type": "code",
   "execution_count": 0,
   "metadata": {
    "colab": {},
    "colab_type": "code",
    "id": "pANPaCrQY1dm"
   },
   "outputs": [],
   "source": [
    "from sklearn.model_selection import GridSearchCV, RandomizedSearchCV"
   ]
  },
  {
   "cell_type": "code",
   "execution_count": 0,
   "metadata": {
    "colab": {
     "base_uri": "https://localhost:8080/",
     "height": 34
    },
    "colab_type": "code",
    "id": "YApb-mzH1m3l",
    "outputId": "f8251988-8fb9-4f47-d375-2ce87d9a3150"
   },
   "outputs": [
    {
     "data": {
      "text/plain": [
       "dict_keys(['algorithm', 'leaf_size', 'metric', 'metric_params', 'n_jobs', 'n_neighbors', 'p', 'weights'])"
      ]
     },
     "execution_count": 19,
     "metadata": {
      "tags": []
     },
     "output_type": "execute_result"
    }
   ],
   "source": [
    "KNeighborsClassifier().get_params().keys()"
   ]
  },
  {
   "cell_type": "code",
   "execution_count": 0,
   "metadata": {
    "colab": {},
    "colab_type": "code",
    "id": "pzHIrSIZY32b"
   },
   "outputs": [],
   "source": [
    "grid_params = {\n",
    "    'weights' : ['uniform', 'distance'],\n",
    "    'metric' : ['manhattan','jaccard'] #haversine - if only lat long\n",
    "}"
   ]
  },
  {
   "cell_type": "code",
   "execution_count": 0,
   "metadata": {
    "colab": {},
    "colab_type": "code",
    "id": "lQd7FQcmY9jh"
   },
   "outputs": [],
   "source": [
    "randomSearch = RandomizedSearchCV(\n",
    "    KNeighborsClassifier(25),\n",
    "    grid_params,\n",
    "    verbose = 1,\n",
    "    cv =3,\n",
    "    random_state = 123\n",
    "    )\n"
   ]
  },
  {
   "cell_type": "code",
   "execution_count": 0,
   "metadata": {
    "colab": {
     "base_uri": "https://localhost:8080/",
     "height": 122
    },
    "colab_type": "code",
    "id": "SBwPGFLKY_tz",
    "outputId": "78ac84c2-cc5a-4b76-daf8-02261745dc6b"
   },
   "outputs": [
    {
     "name": "stderr",
     "output_type": "stream",
     "text": [
      "/usr/local/lib/python3.6/dist-packages/sklearn/model_selection/_search.py:281: UserWarning: The total space of parameters 4 is smaller than n_iter=10. Running 4 iterations. For exhaustive searches, use GridSearchCV.\n",
      "  % (grid_size, self.n_iter, grid_size), UserWarning)\n",
      "[Parallel(n_jobs=1)]: Using backend SequentialBackend with 1 concurrent workers.\n"
     ]
    },
    {
     "name": "stdout",
     "output_type": "stream",
     "text": [
      "Fitting 3 folds for each of 4 candidates, totalling 12 fits\n"
     ]
    },
    {
     "name": "stderr",
     "output_type": "stream",
     "text": [
      "[Parallel(n_jobs=1)]: Done  12 out of  12 | elapsed:  6.5min finished\n"
     ]
    }
   ],
   "source": [
    "#takes very long time\n",
    "rs_results = randomSearch.fit(X_train_gs, y_train_gs)"
   ]
  },
  {
   "cell_type": "code",
   "execution_count": 0,
   "metadata": {
    "colab": {
     "base_uri": "https://localhost:8080/",
     "height": 34
    },
    "colab_type": "code",
    "id": "RDxNx9h1ZDVa",
    "outputId": "c6a1fbad-1065-408f-9a06-92ec2aa12521"
   },
   "outputs": [
    {
     "data": {
      "text/plain": [
       "0.3096858524213952"
      ]
     },
     "execution_count": 39,
     "metadata": {
      "tags": []
     },
     "output_type": "execute_result"
    }
   ],
   "source": [
    "rs_results.best_score_"
   ]
  },
  {
   "cell_type": "code",
   "execution_count": 0,
   "metadata": {
    "colab": {
     "base_uri": "https://localhost:8080/",
     "height": 34
    },
    "colab_type": "code",
    "id": "3RiDedFpZFa4",
    "outputId": "35b02482-8438-41ca-9ac3-0ba88cec082f"
   },
   "outputs": [
    {
     "data": {
      "text/plain": [
       "{'metric': 'manhattan', 'weights': 'uniform'}"
      ]
     },
     "execution_count": 40,
     "metadata": {
      "tags": []
     },
     "output_type": "execute_result"
    }
   ],
   "source": [
    "rs_results.best_params_"
   ]
  },
  {
   "cell_type": "markdown",
   "metadata": {
    "colab_type": "text",
    "id": "CyrMPcU75Jj5"
   },
   "source": [
    "# Oversmapling -SMOTE to balance dataset"
   ]
  },
  {
   "cell_type": "code",
   "execution_count": 0,
   "metadata": {
    "colab": {},
    "colab_type": "code",
    "id": "2Xwkw60O6lJt"
   },
   "outputs": [],
   "source": [
    "from imblearn.over_sampling import SMOTE"
   ]
  },
  {
   "cell_type": "code",
   "execution_count": 0,
   "metadata": {
    "colab": {},
    "colab_type": "code",
    "id": "C7nArO9M5Wvb"
   },
   "outputs": [],
   "source": [
    "# Oversample 'Majority'\n",
    "sm = SMOTE('minority', random_state=123)"
   ]
  },
  {
   "cell_type": "code",
   "execution_count": 0,
   "metadata": {
    "colab": {},
    "colab_type": "code",
    "id": "mb-jafbP0Dp4"
   },
   "outputs": [],
   "source": [
    "X_train_res, y_train_res = sm.fit_sample(X_train, y_train)"
   ]
  },
  {
   "cell_type": "code",
   "execution_count": 0,
   "metadata": {
    "colab": {},
    "colab_type": "code",
    "id": "0uniwwfb8kUz"
   },
   "outputs": [],
   "source": [
    "#convert back to Dataframe\n",
    "X_train_updated = pd.DataFrame(X_train_res, columns= selected_columns)\n",
    "y_train_updated = pd.Series(y_train_res)"
   ]
  },
  {
   "cell_type": "code",
   "execution_count": 0,
   "metadata": {
    "colab": {
     "base_uri": "https://localhost:8080/",
     "height": 323
    },
    "colab_type": "code",
    "id": "vGZFvcQYDzk6",
    "outputId": "1ea0cae1-349c-4d9e-da1e-fa8261341691"
   },
   "outputs": [
    {
     "data": {
      "text/plain": [
       "16    466887\n",
       "4     466887\n",
       "1     374663\n",
       "3     220576\n",
       "10    177724\n",
       "0     134718\n",
       "12    125694\n",
       "2     119325\n",
       "6     103810\n",
       "9      90189\n",
       "14     79815\n",
       "5      55519\n",
       "13     54141\n",
       "15     27124\n",
       "11     15700\n",
       "7       3706\n",
       "8       1553\n",
       "dtype: int64"
      ]
     },
     "execution_count": 44,
     "metadata": {
      "tags": []
     },
     "output_type": "execute_result"
    }
   ],
   "source": [
    "target_counts = y_train_updated.value_counts()\n",
    "target_counts"
   ]
  },
  {
   "cell_type": "code",
   "execution_count": 0,
   "metadata": {
    "colab": {},
    "colab_type": "code",
    "id": "ijrSGf5vbyvo"
   },
   "outputs": [],
   "source": [
    "knn = KNeighborsClassifier(n_neighbors=25, metric='manhattan', weights = 'uniform')"
   ]
  },
  {
   "cell_type": "code",
   "execution_count": 0,
   "metadata": {
    "colab": {
     "base_uri": "https://localhost:8080/",
     "height": 68
    },
    "colab_type": "code",
    "id": "ZFsoujnPZ0T0",
    "outputId": "4c14f4a1-1518-40d3-ff40-63854f429c80"
   },
   "outputs": [
    {
     "data": {
      "text/plain": [
       "KNeighborsClassifier(algorithm='auto', leaf_size=30, metric='manhattan',\n",
       "                     metric_params=None, n_jobs=None, n_neighbors=25, p=2,\n",
       "                     weights='uniform')"
      ]
     },
     "execution_count": 46,
     "metadata": {
      "tags": []
     },
     "output_type": "execute_result"
    }
   ],
   "source": [
    "knn.fit(X_train_updated,y_train_updated)"
   ]
  },
  {
   "cell_type": "code",
   "execution_count": 0,
   "metadata": {
    "colab": {},
    "colab_type": "code",
    "id": "r5SiTi9ffaJW"
   },
   "outputs": [],
   "source": [
    "pred_i = knn.predict(X_test)"
   ]
  },
  {
   "cell_type": "code",
   "execution_count": 0,
   "metadata": {
    "colab": {
     "base_uri": "https://localhost:8080/",
     "height": 51
    },
    "colab_type": "code",
    "id": "hjd22UnHaCo1",
    "outputId": "a74bd0a0-94ea-4587-cc8d-245572c609bd"
   },
   "outputs": [
    {
     "name": "stdout",
     "output_type": "stream",
     "text": [
      "Accuracy  0.3295920027209677\n",
      "F1 score  0.2962310053713088\n"
     ]
    }
   ],
   "source": [
    "print('Accuracy ', metrics.accuracy_score(y_test, pred_i))\n",
    "print('F1 score ', metrics.f1_score(y_test, pred_i, average = 'weighted'))"
   ]
  },
  {
   "cell_type": "markdown",
   "metadata": {
    "colab_type": "text",
    "id": "3rhViKqR6zx5"
   },
   "source": [
    "Oversampling the Minority classed helped with an increase in accuracy and F1 score"
   ]
  },
  {
   "cell_type": "markdown",
   "metadata": {
    "colab_type": "text",
    "id": "ztex8bE3Kh4y"
   },
   "source": [
    "# Undersampling - Cluster Centroids"
   ]
  },
  {
   "cell_type": "code",
   "execution_count": 0,
   "metadata": {
    "colab": {},
    "colab_type": "code",
    "id": "SAW8VBzUKqQY"
   },
   "outputs": [],
   "source": [
    "from imblearn.under_sampling import ClusterCentroids"
   ]
  },
  {
   "cell_type": "code",
   "execution_count": 0,
   "metadata": {
    "colab": {},
    "colab_type": "code",
    "id": "7GUmuQreKqaw"
   },
   "outputs": [],
   "source": [
    "# Undersample 'Majority'\n",
    "cc = ClusterCentroids(sampling_strategy = 'majority')"
   ]
  },
  {
   "cell_type": "code",
   "execution_count": 0,
   "metadata": {
    "colab": {},
    "colab_type": "code",
    "id": "YXyTPI91zxe4"
   },
   "outputs": [],
   "source": [
    "X_cc, y_cc = cc.fit_sample(X_train, y_train)"
   ]
  },
  {
   "cell_type": "code",
   "execution_count": 0,
   "metadata": {
    "colab": {},
    "colab_type": "code",
    "id": "uDjouVqhKqhy"
   },
   "outputs": [],
   "source": [
    "#convert back to Dataframe\n",
    "X_train_updated = pd.DataFrame(X_cc, columns= selected_columns)\n",
    "y_train_updated = pd.Series(y_cc)"
   ]
  },
  {
   "cell_type": "code",
   "execution_count": 0,
   "metadata": {
    "colab": {
     "base_uri": "https://localhost:8080/",
     "height": 323
    },
    "colab_type": "code",
    "id": "VyT4t8-AKqkx",
    "outputId": "5521e98d-006e-4332-f67e-b337e4e9961f"
   },
   "outputs": [
    {
     "data": {
      "text/plain": [
       "1     374663\n",
       "3     220576\n",
       "10    177724\n",
       "0     134718\n",
       "12    125694\n",
       "2     119325\n",
       "6     103810\n",
       "9      90189\n",
       "14     79815\n",
       "5      55519\n",
       "13     54141\n",
       "15     27124\n",
       "11     15700\n",
       "7       3706\n",
       "8       1553\n",
       "4         87\n",
       "16        87\n",
       "dtype: int64"
      ]
     },
     "execution_count": 62,
     "metadata": {
      "tags": []
     },
     "output_type": "execute_result"
    }
   ],
   "source": [
    "target_counts = y_train_updated.value_counts()\n",
    "target_counts"
   ]
  },
  {
   "cell_type": "code",
   "execution_count": 0,
   "metadata": {
    "colab": {},
    "colab_type": "code",
    "id": "7PmToqDSa2XX"
   },
   "outputs": [],
   "source": [
    "knn = KNeighborsClassifier(n_neighbors=25, metric='manhattan', weights = 'uniform')"
   ]
  },
  {
   "cell_type": "code",
   "execution_count": 0,
   "metadata": {
    "colab": {},
    "colab_type": "code",
    "id": "FMPZhA4Ya2Xb"
   },
   "outputs": [],
   "source": [
    "knn.fit(X_train_updated,y_train_updated)"
   ]
  },
  {
   "cell_type": "code",
   "execution_count": 0,
   "metadata": {
    "colab": {},
    "colab_type": "code",
    "id": "uuc80Pk-foXi"
   },
   "outputs": [],
   "source": [
    "pred_i = knn.predict(X_test)"
   ]
  },
  {
   "cell_type": "code",
   "execution_count": 0,
   "metadata": {
    "colab": {
     "base_uri": "https://localhost:8080/",
     "height": 51
    },
    "colab_type": "code",
    "id": "Ab7Hpaaga2Xe",
    "outputId": "b02c2998-c269-4e1d-9614-3be3556cc7e5"
   },
   "outputs": [
    {
     "name": "stdout",
     "output_type": "stream",
     "text": [
      "Accuracy  0.24927226626352664\n",
      "F1 score  0.1955424370821218\n"
     ]
    }
   ],
   "source": [
    "print('Accuracy ', metrics.accuracy_score(y_test, pred_i))\n",
    "print('F1 score ', metrics.f1_score(y_test, pred_i, average = 'weighted'))"
   ]
  },
  {
   "cell_type": "markdown",
   "metadata": {
    "colab_type": "text",
    "id": "5Ss5mHnLBWsu"
   },
   "source": [
    "Undersampling using cluster centroids does not help much in high dimensional data"
   ]
  },
  {
   "cell_type": "markdown",
   "metadata": {
    "colab_type": "text",
    "id": "-CCqvNFoXtOH"
   },
   "source": [
    "# Random Sampling"
   ]
  },
  {
   "cell_type": "code",
   "execution_count": 0,
   "metadata": {
    "colab": {},
    "colab_type": "code",
    "id": "xT9UIHH8Xx0W"
   },
   "outputs": [],
   "source": [
    "from imblearn.over_sampling import RandomOverSampler\n",
    "from imblearn.under_sampling import RandomUnderSampler"
   ]
  },
  {
   "cell_type": "code",
   "execution_count": 0,
   "metadata": {
    "colab": {},
    "colab_type": "code",
    "id": "dvLxN1r3XzBm"
   },
   "outputs": [],
   "source": [
    "# define oversampling strategy\n",
    "over = RandomOverSampler(sampling_strategy= 'minority') "
   ]
  },
  {
   "cell_type": "code",
   "execution_count": 0,
   "metadata": {
    "colab": {
     "base_uri": "https://localhost:8080/",
     "height": 71
    },
    "colab_type": "code",
    "id": "EMi9-vOXXzHQ",
    "outputId": "b98e71f2-c196-42c0-9e8c-296d85688bfd"
   },
   "outputs": [
    {
     "name": "stderr",
     "output_type": "stream",
     "text": [
      "/usr/local/lib/python3.6/dist-packages/sklearn/utils/deprecation.py:87: FutureWarning: Function safe_indexing is deprecated; safe_indexing is deprecated in version 0.22 and will be removed in version 0.24.\n",
      "  warnings.warn(msg, category=FutureWarning)\n"
     ]
    }
   ],
   "source": [
    "# fit and apply the transform\n",
    "X_random, y_random = over.fit_resample(X_train, y_train)"
   ]
  },
  {
   "cell_type": "code",
   "execution_count": 0,
   "metadata": {
    "colab": {},
    "colab_type": "code",
    "id": "OBQEhNlHB_XE"
   },
   "outputs": [],
   "source": [
    "#convert back to Dataframe\n",
    "X_train_updated = pd.DataFrame(X_random, columns= selected_columns)\n",
    "y_train_updated = pd.Series(y_random)"
   ]
  },
  {
   "cell_type": "code",
   "execution_count": 0,
   "metadata": {
    "colab": {
     "base_uri": "https://localhost:8080/",
     "height": 323
    },
    "colab_type": "code",
    "id": "k_yrEjxRCIJW",
    "outputId": "7c67f845-9439-4cbe-f2d7-16454ebfcc0f"
   },
   "outputs": [
    {
     "data": {
      "text/plain": [
       "16    466887\n",
       "4     466887\n",
       "1     374663\n",
       "3     220576\n",
       "10    177724\n",
       "0     134718\n",
       "12    125694\n",
       "2     119325\n",
       "6     103810\n",
       "9      90189\n",
       "14     79815\n",
       "5      55519\n",
       "13     54141\n",
       "15     27124\n",
       "11     15700\n",
       "7       3706\n",
       "8       1553\n",
       "dtype: int64"
      ]
     },
     "execution_count": 69,
     "metadata": {
      "tags": []
     },
     "output_type": "execute_result"
    }
   ],
   "source": [
    "target_counts_random = y_train_updated.value_counts()\n",
    "target_counts_random"
   ]
  },
  {
   "cell_type": "code",
   "execution_count": 0,
   "metadata": {
    "colab": {},
    "colab_type": "code",
    "id": "feWopjT6BwPR"
   },
   "outputs": [],
   "source": [
    "knn = KNeighborsClassifier(n_neighbors=25, metric='manhattan', weights = 'uniform')"
   ]
  },
  {
   "cell_type": "code",
   "execution_count": 0,
   "metadata": {
    "colab": {
     "base_uri": "https://localhost:8080/",
     "height": 68
    },
    "colab_type": "code",
    "id": "g3YdikidBwPU",
    "outputId": "6a6553e5-d459-4d49-ace0-203fc32b0637"
   },
   "outputs": [
    {
     "data": {
      "text/plain": [
       "KNeighborsClassifier(algorithm='auto', leaf_size=30, metric='manhattan',\n",
       "                     metric_params=None, n_jobs=None, n_neighbors=25, p=2,\n",
       "                     weights='uniform')"
      ]
     },
     "execution_count": 71,
     "metadata": {
      "tags": []
     },
     "output_type": "execute_result"
    }
   ],
   "source": [
    "knn.fit(X_train_updated,y_train_updated)"
   ]
  },
  {
   "cell_type": "code",
   "execution_count": 0,
   "metadata": {
    "colab": {},
    "colab_type": "code",
    "id": "5Le8LxruBwPW"
   },
   "outputs": [],
   "source": [
    "pred_i = knn.predict(X_test)"
   ]
  },
  {
   "cell_type": "code",
   "execution_count": 0,
   "metadata": {
    "colab": {
     "base_uri": "https://localhost:8080/",
     "height": 51
    },
    "colab_type": "code",
    "id": "q3GNIJ_4BwPY",
    "outputId": "d0011115-9d59-454d-8ced-ed9fb5240ca7"
   },
   "outputs": [
    {
     "name": "stdout",
     "output_type": "stream",
     "text": [
      "Accuracy  0.3328214455937272\n",
      "F1 score  0.2973019662409677\n"
     ]
    }
   ],
   "source": [
    "print('Accuracy ', metrics.accuracy_score(y_test, pred_i))\n",
    "print('F1 score ', metrics.f1_score(y_test, pred_i, average = 'weighted'))"
   ]
  },
  {
   "cell_type": "markdown",
   "metadata": {
    "colab_type": "text",
    "id": "E7_pm-e2Ca0L"
   },
   "source": [
    "OverSampling minority class improves model "
   ]
  },
  {
   "cell_type": "code",
   "execution_count": 0,
   "metadata": {
    "colab": {},
    "colab_type": "code",
    "id": "3mB8nOiyXzQb"
   },
   "outputs": [],
   "source": [
    "# define undersampling strategy\n",
    "under = RandomUnderSampler(sampling_strategy= 'majority')"
   ]
  },
  {
   "cell_type": "code",
   "execution_count": 0,
   "metadata": {
    "colab": {
     "base_uri": "https://localhost:8080/",
     "height": 71
    },
    "colab_type": "code",
    "id": "ERhCRLV0YE0y",
    "outputId": "bf99a7c1-dfdb-4f01-d02a-b2596409552d"
   },
   "outputs": [
    {
     "name": "stderr",
     "output_type": "stream",
     "text": [
      "/usr/local/lib/python3.6/dist-packages/sklearn/utils/deprecation.py:87: FutureWarning: Function safe_indexing is deprecated; safe_indexing is deprecated in version 0.22 and will be removed in version 0.24.\n",
      "  warnings.warn(msg, category=FutureWarning)\n"
     ]
    }
   ],
   "source": [
    "# fit and apply the transform\n",
    "X_train_updated, y_train_updated = under.fit_resample(X_train, y_train)"
   ]
  },
  {
   "cell_type": "code",
   "execution_count": 0,
   "metadata": {
    "colab": {
     "base_uri": "https://localhost:8080/",
     "height": 323
    },
    "colab_type": "code",
    "id": "wZvC1eGbYQAG",
    "outputId": "63f1fba1-7042-4a2e-b066-1cf1bfa79f20"
   },
   "outputs": [
    {
     "data": {
      "text/plain": [
       "16    466887\n",
       "1     374663\n",
       "3     220576\n",
       "10    177724\n",
       "0     134718\n",
       "12    125694\n",
       "2     119325\n",
       "6     103810\n",
       "9      90189\n",
       "14     79815\n",
       "5      55519\n",
       "13     54141\n",
       "15     27124\n",
       "11     15700\n",
       "7       3706\n",
       "8       1553\n",
       "4         87\n",
       "Name: Primary Type, dtype: int64"
      ]
     },
     "execution_count": 76,
     "metadata": {
      "tags": []
     },
     "output_type": "execute_result"
    }
   ],
   "source": [
    "y_train_updated = pd.Series(y_train_updated)\n",
    "target_counts_random = y_train.value_counts()\n",
    "target_counts_random"
   ]
  },
  {
   "cell_type": "code",
   "execution_count": 0,
   "metadata": {
    "colab": {},
    "colab_type": "code",
    "id": "m9cqjY9ta6wz"
   },
   "outputs": [],
   "source": [
    "knn = KNeighborsClassifier(n_neighbors=25, metric='manhattan', weights = 'uniform')"
   ]
  },
  {
   "cell_type": "code",
   "execution_count": 0,
   "metadata": {
    "colab": {
     "base_uri": "https://localhost:8080/",
     "height": 68
    },
    "colab_type": "code",
    "id": "I1T4wnnOa6w1",
    "outputId": "e6c51df4-8110-4d46-fe28-bacbfd2d61e4"
   },
   "outputs": [
    {
     "data": {
      "text/plain": [
       "KNeighborsClassifier(algorithm='auto', leaf_size=30, metric='manhattan',\n",
       "                     metric_params=None, n_jobs=None, n_neighbors=25, p=2,\n",
       "                     weights='uniform')"
      ]
     },
     "execution_count": 78,
     "metadata": {
      "tags": []
     },
     "output_type": "execute_result"
    }
   ],
   "source": [
    "knn.fit(X_train_updated,y_train_updated)"
   ]
  },
  {
   "cell_type": "code",
   "execution_count": 0,
   "metadata": {
    "colab": {},
    "colab_type": "code",
    "id": "zbZBXuuOfuEA"
   },
   "outputs": [],
   "source": [
    "pred_i = knn.predict(X_test)"
   ]
  },
  {
   "cell_type": "code",
   "execution_count": 0,
   "metadata": {
    "colab": {
     "base_uri": "https://localhost:8080/",
     "height": 51
    },
    "colab_type": "code",
    "id": "oGGSKX2ya6w2",
    "outputId": "ac27d3d5-cd11-4c1e-9801-ff427e916462"
   },
   "outputs": [
    {
     "name": "stdout",
     "output_type": "stream",
     "text": [
      "Accuracy  0.24930184199959277\n",
      "F1 score  0.19552605947705762\n"
     ]
    }
   ],
   "source": [
    "print('Accuracy ', metrics.accuracy_score(y_test, pred_i))\n",
    "print('F1 score ', metrics.f1_score(y_test, pred_i, average = 'weighted'))"
   ]
  },
  {
   "cell_type": "markdown",
   "metadata": {
    "colab_type": "text",
    "id": "pH737l9RBTyE"
   },
   "source": [
    "Oversampling does not have significant impact on model"
   ]
  },
  {
   "cell_type": "markdown",
   "metadata": {
    "colab_type": "text",
    "id": "W145iiFhhXQX"
   },
   "source": [
    "# Ensemble models"
   ]
  },
  {
   "cell_type": "markdown",
   "metadata": {
    "colab_type": "text",
    "id": "mT6lpKUt44I6"
   },
   "source": [
    "Here we will try ensemble of Various classification models "
   ]
  },
  {
   "cell_type": "code",
   "execution_count": 0,
   "metadata": {
    "colab": {},
    "colab_type": "code",
    "id": "nBJQbo5khZ8Y"
   },
   "outputs": [],
   "source": [
    "from sklearn.ensemble import VotingClassifier\n",
    "from sklearn.ensemble import RandomForestClassifier\n",
    "from sklearn.svm import SVC\n",
    "from sklearn.linear_model import LogisticRegression"
   ]
  },
  {
   "cell_type": "code",
   "execution_count": 0,
   "metadata": {
    "colab": {},
    "colab_type": "code",
    "id": "QviPibKYi5VZ"
   },
   "outputs": [],
   "source": [
    "#KNN with - 25 neighbours\n",
    "knn = KNeighborsClassifier(25, metric='manhattan', weights = 'uniform',n_jobs= -1)\n",
    "\n",
    "#random forest with 75 Decision Trees\n",
    "rf = RandomForestClassifier(10, max_depth = 10, n_jobs= -1)\n",
    "\n",
    "#Support Vector Classifier\n",
    "svm = SVC(kernel = 'linear', random_state = 123, probability=True)"
   ]
  },
  {
   "cell_type": "code",
   "execution_count": 45,
   "metadata": {
    "colab": {
     "base_uri": "https://localhost:8080/",
     "height": 68
    },
    "colab_type": "code",
    "id": "O4axGLo_ks8U",
    "outputId": "fb720f2e-1a36-45af-d151-4989c31ff72f"
   },
   "outputs": [
    {
     "data": {
      "text/plain": [
       "KNeighborsClassifier(algorithm='auto', leaf_size=30, metric='manhattan',\n",
       "                     metric_params=None, n_jobs=-1, n_neighbors=25, p=2,\n",
       "                     weights='uniform')"
      ]
     },
     "execution_count": 45,
     "metadata": {
      "tags": []
     },
     "output_type": "execute_result"
    }
   ],
   "source": [
    "# can using previopusly trained KNN as well\n",
    "knn.fit(X_train1,y_train1)"
   ]
  },
  {
   "cell_type": "code",
   "execution_count": 39,
   "metadata": {
    "colab": {
     "base_uri": "https://localhost:8080/",
     "height": 153
    },
    "colab_type": "code",
    "id": "Z8fsZ5jZ0SN4",
    "outputId": "6be1a5b3-9230-487e-fd54-93588cbb61b7"
   },
   "outputs": [
    {
     "data": {
      "text/plain": [
       "RandomForestClassifier(bootstrap=True, ccp_alpha=0.0, class_weight=None,\n",
       "                       criterion='gini', max_depth=10, max_features='auto',\n",
       "                       max_leaf_nodes=None, max_samples=None,\n",
       "                       min_impurity_decrease=0.0, min_impurity_split=None,\n",
       "                       min_samples_leaf=1, min_samples_split=2,\n",
       "                       min_weight_fraction_leaf=0.0, n_estimators=10, n_jobs=-1,\n",
       "                       oob_score=False, random_state=None, verbose=0,\n",
       "                       warm_start=False)"
      ]
     },
     "execution_count": 39,
     "metadata": {
      "tags": []
     },
     "output_type": "execute_result"
    }
   ],
   "source": [
    "rf.fit(X_train,y_train)"
   ]
  },
  {
   "cell_type": "code",
   "execution_count": 40,
   "metadata": {
    "colab": {
     "base_uri": "https://localhost:8080/",
     "height": 34
    },
    "colab_type": "code",
    "id": "LBlfBlwrWYJP",
    "outputId": "f45be6bd-b5d6-4f73-af61-f4296e7a9176"
   },
   "outputs": [
    {
     "data": {
      "text/plain": [
       "0.3365866643006078"
      ]
     },
     "execution_count": 40,
     "metadata": {
      "tags": []
     },
     "output_type": "execute_result"
    }
   ],
   "source": [
    "rf.score(X_test, y_test)"
   ]
  },
  {
   "cell_type": "code",
   "execution_count": 35,
   "metadata": {
    "colab": {
     "base_uri": "https://localhost:8080/",
     "height": 85
    },
    "colab_type": "code",
    "id": "d3n_NCS80Sco",
    "outputId": "3d5a6ddc-d6e4-4c85-c998-8b8e9adb532b"
   },
   "outputs": [
    {
     "data": {
      "text/plain": [
       "SVC(C=1.0, break_ties=False, cache_size=200, class_weight=None, coef0=0.0,\n",
       "    decision_function_shape='ovr', degree=3, gamma='scale', kernel='linear',\n",
       "    max_iter=-1, probability=True, random_state=123, shrinking=True, tol=0.001,\n",
       "    verbose=False)"
      ]
     },
     "execution_count": 35,
     "metadata": {
      "tags": []
     },
     "output_type": "execute_result"
    }
   ],
   "source": [
    "svm.fit(X_train1,y_train1)"
   ]
  },
  {
   "cell_type": "code",
   "execution_count": 36,
   "metadata": {
    "colab": {
     "base_uri": "https://localhost:8080/",
     "height": 34
    },
    "colab_type": "code",
    "id": "6WLAxzUPsKoA",
    "outputId": "94b8fbdf-08d4-448b-da21-5a4ce47cb122"
   },
   "outputs": [
    {
     "data": {
      "text/plain": [
       "0.22814267790089626"
      ]
     },
     "execution_count": 36,
     "metadata": {
      "tags": []
     },
     "output_type": "execute_result"
    }
   ],
   "source": [
    "svm.score(X_test, y_test)"
   ]
  },
  {
   "cell_type": "code",
   "execution_count": 0,
   "metadata": {
    "colab": {},
    "colab_type": "code",
    "id": "T1Wx0sPrjB0h"
   },
   "outputs": [],
   "source": [
    "#create a dictionary of our models\n",
    "estimators=[('knn', knn), ('rf', rf), ('svm', svm)]\n",
    "#create our voting classifier, inputting our models\n",
    "ensemble = VotingClassifier(estimators, voting='hard')"
   ]
  },
  {
   "cell_type": "code",
   "execution_count": 0,
   "metadata": {
    "colab": {},
    "colab_type": "code",
    "id": "Xu1RsnXTkBn5"
   },
   "outputs": [],
   "source": [
    "#fit model to training data\n",
    "ensemble.fit(X_train, y_train)\n",
    "#test our model on the test data\n",
    "ensemble.score(X_test, y_test)"
   ]
  }
 ],
 "metadata": {
  "accelerator": "GPU",
  "colab": {
   "collapsed_sections": [
    "EOV6WxSrCZa6"
   ],
   "machine_shape": "hm",
   "name": "KNN-final.ipynb",
   "provenance": [],
   "toc_visible": true
  },
  "kernelspec": {
   "display_name": "Python 3",
   "language": "python",
   "name": "python3"
  },
  "language_info": {
   "codemirror_mode": {
    "name": "ipython",
    "version": 3
   },
   "file_extension": ".py",
   "mimetype": "text/x-python",
   "name": "python",
   "nbconvert_exporter": "python",
   "pygments_lexer": "ipython3",
   "version": "3.8.8"
  }
 },
 "nbformat": 4,
 "nbformat_minor": 1
}
