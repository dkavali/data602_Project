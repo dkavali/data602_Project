{
  "nbformat": 4,
  "nbformat_minor": 0,
  "metadata": {
    "colab": {
      "name": "KNN_predictingCrime_on_week.ipynb",
      "provenance": [],
      "collapsed_sections": []
    },
    "kernelspec": {
      "name": "python3",
      "display_name": "Python 3"
    }
  },
  "cells": [
    {
      "cell_type": "code",
      "metadata": {
        "id": "h5ZmNqgz6VXc",
        "colab_type": "code",
        "colab": {}
      },
      "source": [
        "!apt-get install openjdk-8-jdk-headless -qq > /dev/null\n",
        "!wget -q https://www-us.apache.org/dist/spark/spark-2.4.5/spark-2.4.5-bin-hadoop2.7.tgz\n",
        "!tar xf spark-2.4.5-bin-hadoop2.7.tgz\n",
        "!pip install -q findspark"
      ],
      "execution_count": 0,
      "outputs": []
    },
    {
      "cell_type": "code",
      "metadata": {
        "id": "jN1q5fyh6d7a",
        "colab_type": "code",
        "colab": {}
      },
      "source": [
        "import os\n",
        "os.environ[\"JAVA_HOME\"] = \"/usr/lib/jvm/java-8-openjdk-amd64\"\n",
        "os.environ[\"SPARK_HOME\"] = \"/content/spark-2.4.5-bin-hadoop2.7\""
      ],
      "execution_count": 0,
      "outputs": []
    },
    {
      "cell_type": "code",
      "metadata": {
        "id": "SJ-XRWiS6hZE",
        "colab_type": "code",
        "colab": {}
      },
      "source": [
        "import findspark\n",
        "findspark.init()\n",
        "from pyspark.sql import SparkSession\n",
        "spark = SparkSession.builder.master(\"local[*]\").getOrCreate()"
      ],
      "execution_count": 0,
      "outputs": []
    },
    {
      "cell_type": "code",
      "metadata": {
        "id": "_tKdeZRX6kSV",
        "colab_type": "code",
        "colab": {}
      },
      "source": [
        "import os\n",
        "#spark imports\n",
        "from pyspark import SparkContext\n",
        "from pyspark.sql import SparkSession\n",
        "from pyspark.sql import DataFrame\n",
        "import csv\n",
        "\n",
        "from pyspark.sql.types import *\n",
        "from pyspark.sql.functions import format_number, when\n",
        "\n",
        "\n",
        "import pandas as pd\n",
        "import matplotlib.pyplot as plt\n",
        "import numpy as np\n",
        "import pyspark.sql.functions as F\n",
        "\n",
        "from sklearn.model_selection import train_test_split,cross_val_score\n",
        "from sklearn.neighbors import KNeighborsClassifier\n",
        "from sklearn.metrics import f1_score\n",
        "from sklearn.metrics import accuracy_score\n",
        "from sklearn.metrics import confusion_matrix\n",
        "from sklearn.preprocessing import StandardScaler\n",
        "from sklearn.preprocessing import LabelEncoder"
      ],
      "execution_count": 0,
      "outputs": []
    },
    {
      "cell_type": "code",
      "metadata": {
        "id": "sJnxMq1z6nEg",
        "colab_type": "code",
        "colab": {
          "base_uri": "https://localhost:8080/",
          "height": 122
        },
        "outputId": "66c10134-3372-4a0a-a7ce-7f77da38430b"
      },
      "source": [
        "from google.colab import drive\n",
        "drive.mount('/content/gdrive')"
      ],
      "execution_count": 6,
      "outputs": [
        {
          "output_type": "stream",
          "text": [
            "Go to this URL in a browser: https://accounts.google.com/o/oauth2/auth?client_id=947318989803-6bn6qk8qdgf4n4g3pfee6491hc0brc4i.apps.googleusercontent.com&redirect_uri=urn%3aietf%3awg%3aoauth%3a2.0%3aoob&response_type=code&scope=email%20https%3a%2f%2fwww.googleapis.com%2fauth%2fdocs.test%20https%3a%2f%2fwww.googleapis.com%2fauth%2fdrive%20https%3a%2f%2fwww.googleapis.com%2fauth%2fdrive.photos.readonly%20https%3a%2f%2fwww.googleapis.com%2fauth%2fpeopleapi.readonly\n",
            "\n",
            "Enter your authorization code:\n",
            "··········\n",
            "Mounted at /content/gdrive\n"
          ],
          "name": "stdout"
        }
      ]
    },
    {
      "cell_type": "code",
      "metadata": {
        "id": "5KUA_PsL6pHC",
        "colab_type": "code",
        "colab": {}
      },
      "source": [
        "spark = SparkSession.builder.appName(\"Project - Chicago crime\")\\\n",
        ".config(\"spark.some.config.option\", \"some-value\")\\\n",
        ".config(\"spark.driver.memory\", \"20g\")\\\n",
        ".getOrCreate()"
      ],
      "execution_count": 0,
      "outputs": []
    },
    {
      "cell_type": "code",
      "metadata": {
        "id": "kZAQHZa66ryv",
        "colab_type": "code",
        "colab": {}
      },
      "source": [
        "crimes_schema = StructType([StructField(\"Date\", StringType(), True ),\n",
        "                            StructField(\"Primary Type\", StringType(), True  ),\n",
        "                            StructField(\"Location Description\", StringType(), True ),\n",
        "                            StructField(\"Arrest\", BooleanType(), True),\n",
        "                            StructField(\"Ward\", StringType(), True),\n",
        "                            StructField(\"Year\", IntegerType(), True),\n",
        "                            StructField(\"Latitude\", DoubleType(), True),\n",
        "                            StructField(\"Longitude\", DoubleType(), True),        \n",
        "                            ])"
      ],
      "execution_count": 0,
      "outputs": []
    },
    {
      "cell_type": "code",
      "metadata": {
        "id": "69JFVVPw6y3k",
        "colab_type": "code",
        "colab": {}
      },
      "source": [
        "data = spark.read.csv('/content/gdrive/My Drive/Colab Notebooks/my_csv2.csv',header = True,schema = crimes_schema)"
      ],
      "execution_count": 0,
      "outputs": []
    },
    {
      "cell_type": "code",
      "metadata": {
        "id": "F1p3znoN662B",
        "colab_type": "code",
        "colab": {
          "base_uri": "https://localhost:8080/",
          "height": 122
        },
        "outputId": "1502bbe8-8cb4-459f-e33c-4526c30641e4"
      },
      "source": [
        "dataset=data.withColumn(\"Day\", F.split(data.Date, \" \")[0])\n",
        "dataset=dataset.withColumn(\"Day\", F.to_date(dataset.Day, \"MM/dd/yyyy\"))\n",
        "dataset=dataset.withColumn(\"Month\", F.month(dataset.Day))\n",
        "dataset=dataset.withColumn(\"Week\", F.weekofyear(dataset.Day))\n",
        "dataset=dataset.drop('Day')\n",
        "dataset=dataset.drop('Date')\n",
        "dataset.take(5)"
      ],
      "execution_count": 10,
      "outputs": [
        {
          "output_type": "execute_result",
          "data": {
            "text/plain": [
              "[Row(Primary Type='PUBLIC PEACE VIOLATION', Location Description='AIRCRAFT', Arrest=False, Ward='41', Year=2019, Latitude=42.002816387, Longitude=-87.90609433, Month=1, Week=1),\n",
              " Row(Primary Type='BATTERY', Location Description='STREET', Arrest=False, Ward='42', Year=2019, Latitude=41.88336939, Longitude=-87.633860272, Month=3, Week=11),\n",
              " Row(Primary Type='THEFT', Location Description='RESIDENTIAL YARD (FRONT/BACK)', Arrest=False, Ward='4', Year=2019, Latitude=41.825346902, Longitude=-87.606780575, Month=3, Week=11),\n",
              " Row(Primary Type='BATTERY', Location Description='RESIDENCE', Arrest=False, Ward='49', Year=2019, Latitude=42.016541612, Longitude=-87.672499325, Month=3, Week=11),\n",
              " Row(Primary Type='OTHER OFFENSE', Location Description='STREET', Arrest=False, Ward='4', Year=2019, Latitude=41.825298645, Longitude=-87.6069609, Month=3, Week=11)]"
            ]
          },
          "metadata": {
            "tags": []
          },
          "execution_count": 10
        }
      ]
    },
    {
      "cell_type": "code",
      "metadata": {
        "id": "E_4yUAJy6_Ju",
        "colab_type": "code",
        "colab": {
          "base_uri": "https://localhost:8080/",
          "height": 102
        },
        "outputId": "77d7f445-f8e5-44e0-d4b7-ee0c40443ddc"
      },
      "source": [
        "dataset_new=dataset.drop(dataset['Latitude'])\n",
        "dataset_new=dataset_new.drop(dataset_new['Longitude'])\n",
        "dataset_new.take(5)"
      ],
      "execution_count": 11,
      "outputs": [
        {
          "output_type": "execute_result",
          "data": {
            "text/plain": [
              "[Row(Primary Type='PUBLIC PEACE VIOLATION', Location Description='AIRCRAFT', Arrest=False, Ward='41', Year=2019, Month=1, Week=1),\n",
              " Row(Primary Type='BATTERY', Location Description='STREET', Arrest=False, Ward='42', Year=2019, Month=3, Week=11),\n",
              " Row(Primary Type='THEFT', Location Description='RESIDENTIAL YARD (FRONT/BACK)', Arrest=False, Ward='4', Year=2019, Month=3, Week=11),\n",
              " Row(Primary Type='BATTERY', Location Description='RESIDENCE', Arrest=False, Ward='49', Year=2019, Month=3, Week=11),\n",
              " Row(Primary Type='OTHER OFFENSE', Location Description='STREET', Arrest=False, Ward='4', Year=2019, Month=3, Week=11)]"
            ]
          },
          "metadata": {
            "tags": []
          },
          "execution_count": 11
        }
      ]
    },
    {
      "cell_type": "code",
      "metadata": {
        "id": "04FCep4LJsCf",
        "colab_type": "code",
        "colab": {}
      },
      "source": [
        "dataset_new=dataset_new.drop(dataset_new['Year'])\n",
        "dataset_new=dataset_new.drop(dataset_new['Month'])"
      ],
      "execution_count": 0,
      "outputs": []
    },
    {
      "cell_type": "code",
      "metadata": {
        "id": "2iH5C6L9H9dV",
        "colab_type": "code",
        "colab": {}
      },
      "source": [
        "targetDf = dataset_new.withColumn(\"Primary Type\", \\\n",
        "              when((dataset_new[\"Primary Type\"] == 'KIDNAPPING') | (dataset_new[\"Primary Type\"] == 'HOMICIDE'),'OTHER OFFENSE').otherwise(dataset_new['Primary Type']))"
      ],
      "execution_count": 0,
      "outputs": []
    },
    {
      "cell_type": "code",
      "metadata": {
        "id": "T8H7EQixmK9o",
        "colab_type": "code",
        "colab": {
          "base_uri": "https://localhost:8080/",
          "height": 340
        },
        "outputId": "ba1364b4-66e9-4fa2-dc45-0e8cdb6cbda1"
      },
      "source": [
        "d=targetDf.groupby('Primary Type').count()\n",
        "d.show()"
      ],
      "execution_count": 26,
      "outputs": [
        {
          "output_type": "stream",
          "text": [
            "+--------------------+------+\n",
            "|        Primary Type| count|\n",
            "+--------------------+------+\n",
            "|OFFENSE INVOLVING...| 22415|\n",
            "|PUBLIC PEACE VIOL...| 77058|\n",
            "|   CRIMINAL TRESPASS| 79520|\n",
            "|             ASSAULT|192574|\n",
            "| MOTOR VEHICLE THEFT|128894|\n",
            "|               THEFT|666384|\n",
            "|             BATTERY|535709|\n",
            "|             ROBBERY|114459|\n",
            "|  DECEPTIVE PRACTICE|148325|\n",
            "|         SEX OFFENSE| 38939|\n",
            "|     CRIMINAL DAMAGE|315193|\n",
            "|           NARCOTICS|253623|\n",
            "|       OTHER OFFENSE|187053|\n",
            "|            BURGLARY|169950|\n",
            "+--------------------+------+\n",
            "\n"
          ],
          "name": "stdout"
        }
      ]
    },
    {
      "cell_type": "code",
      "metadata": {
        "id": "t2-06KBwImaF",
        "colab_type": "code",
        "colab": {}
      },
      "source": [
        "dataset_new_pd=targetDf.toPandas()"
      ],
      "execution_count": 0,
      "outputs": []
    },
    {
      "cell_type": "markdown",
      "metadata": {
        "id": "Su-X7Aqn3nos",
        "colab_type": "text"
      },
      "source": [
        "**Predicting type of crime based on a week**"
      ]
    },
    {
      "cell_type": "code",
      "metadata": {
        "id": "dKQ6e-ZTxmzS",
        "colab_type": "code",
        "colab": {}
      },
      "source": [
        "dataset_new_a=dataset_new_pd.drop('Location Description',axis=1)"
      ],
      "execution_count": 0,
      "outputs": []
    },
    {
      "cell_type": "code",
      "metadata": {
        "id": "V1rnN0dD-fRf",
        "colab_type": "code",
        "outputId": "bc651491-5f89-4fa6-a306-4f3d84a460c8",
        "colab": {
          "base_uri": "https://localhost:8080/",
          "height": 204
        }
      },
      "source": [
        "le_primarytype = LabelEncoder()\n",
        "le_arrest = LabelEncoder()\n",
        "dataset_new_a['new_arrest']=le_arrest.fit_transform(dataset_new_a['Arrest'])\n",
        "dataset_new_a['new_primarytype']=le_primarytype.fit_transform(dataset_new_a['Primary Type'])\n",
        "\n",
        "my_dataset_new=dataset_new_pd.drop(['Primary Type','Arrest'], axis=1)\n",
        "my_dataset_new.head()"
      ],
      "execution_count": 0,
      "outputs": [
        {
          "output_type": "execute_result",
          "data": {
            "text/html": [
              "<div>\n",
              "<style scoped>\n",
              "    .dataframe tbody tr th:only-of-type {\n",
              "        vertical-align: middle;\n",
              "    }\n",
              "\n",
              "    .dataframe tbody tr th {\n",
              "        vertical-align: top;\n",
              "    }\n",
              "\n",
              "    .dataframe thead th {\n",
              "        text-align: right;\n",
              "    }\n",
              "</style>\n",
              "<table border=\"1\" class=\"dataframe\">\n",
              "  <thead>\n",
              "    <tr style=\"text-align: right;\">\n",
              "      <th></th>\n",
              "      <th>Ward</th>\n",
              "      <th>Week</th>\n",
              "      <th>new_arrest</th>\n",
              "      <th>new_primarytype</th>\n",
              "    </tr>\n",
              "  </thead>\n",
              "  <tbody>\n",
              "    <tr>\n",
              "      <th>0</th>\n",
              "      <td>41</td>\n",
              "      <td>1</td>\n",
              "      <td>0</td>\n",
              "      <td>10</td>\n",
              "    </tr>\n",
              "    <tr>\n",
              "      <th>1</th>\n",
              "      <td>42</td>\n",
              "      <td>11</td>\n",
              "      <td>0</td>\n",
              "      <td>1</td>\n",
              "    </tr>\n",
              "    <tr>\n",
              "      <th>2</th>\n",
              "      <td>4</td>\n",
              "      <td>11</td>\n",
              "      <td>0</td>\n",
              "      <td>13</td>\n",
              "    </tr>\n",
              "    <tr>\n",
              "      <th>3</th>\n",
              "      <td>49</td>\n",
              "      <td>11</td>\n",
              "      <td>0</td>\n",
              "      <td>1</td>\n",
              "    </tr>\n",
              "    <tr>\n",
              "      <th>4</th>\n",
              "      <td>4</td>\n",
              "      <td>11</td>\n",
              "      <td>0</td>\n",
              "      <td>9</td>\n",
              "    </tr>\n",
              "  </tbody>\n",
              "</table>\n",
              "</div>"
            ],
            "text/plain": [
              "  Ward  Week  new_arrest  new_primarytype\n",
              "0   41     1           0               10\n",
              "1   42    11           0                1\n",
              "2    4    11           0               13\n",
              "3   49    11           0                1\n",
              "4    4    11           0                9"
            ]
          },
          "metadata": {
            "tags": []
          },
          "execution_count": 18
        }
      ]
    },
    {
      "cell_type": "code",
      "metadata": {
        "id": "b7UD2rkHiony",
        "colab_type": "code",
        "outputId": "c287580d-64bb-4039-9af2-d596fabed937",
        "colab": {
          "base_uri": "https://localhost:8080/",
          "height": 615
        }
      },
      "source": [
        "accuracy_rate = []\n",
        "# Might take some time\n",
        "X=my_dataset_new.iloc[:,:3]\n",
        "y=my_dataset_new.iloc[:,3:]\n",
        "\n",
        "X_train, X_test, y_train, y_test= train_test_split(X,y,random_state=123, test_size=0.2)\n",
        "\n",
        "for i in range(1,50,3):\n",
        "    knn= KNeighborsClassifier(n_neighbors=i, p=2, metric='manhattan')\n",
        "    knn.fit(X_train,y_train)\n",
        "    y_pred=knn.predict(X_test)\n",
        "    accuracy_rate.append(accuracy_score(y_test,y_pred))"
      ],
      "execution_count": 0,
      "outputs": [
        {
          "output_type": "stream",
          "text": [
            "/usr/local/lib/python3.6/dist-packages/ipykernel_launcher.py:10: DataConversionWarning: A column-vector y was passed when a 1d array was expected. Please change the shape of y to (n_samples, ), for example using ravel().\n",
            "  # Remove the CWD from sys.path while we load stuff.\n",
            "/usr/local/lib/python3.6/dist-packages/ipykernel_launcher.py:10: DataConversionWarning: A column-vector y was passed when a 1d array was expected. Please change the shape of y to (n_samples, ), for example using ravel().\n",
            "  # Remove the CWD from sys.path while we load stuff.\n",
            "/usr/local/lib/python3.6/dist-packages/ipykernel_launcher.py:10: DataConversionWarning: A column-vector y was passed when a 1d array was expected. Please change the shape of y to (n_samples, ), for example using ravel().\n",
            "  # Remove the CWD from sys.path while we load stuff.\n",
            "/usr/local/lib/python3.6/dist-packages/ipykernel_launcher.py:10: DataConversionWarning: A column-vector y was passed when a 1d array was expected. Please change the shape of y to (n_samples, ), for example using ravel().\n",
            "  # Remove the CWD from sys.path while we load stuff.\n",
            "/usr/local/lib/python3.6/dist-packages/ipykernel_launcher.py:10: DataConversionWarning: A column-vector y was passed when a 1d array was expected. Please change the shape of y to (n_samples, ), for example using ravel().\n",
            "  # Remove the CWD from sys.path while we load stuff.\n",
            "/usr/local/lib/python3.6/dist-packages/ipykernel_launcher.py:10: DataConversionWarning: A column-vector y was passed when a 1d array was expected. Please change the shape of y to (n_samples, ), for example using ravel().\n",
            "  # Remove the CWD from sys.path while we load stuff.\n",
            "/usr/local/lib/python3.6/dist-packages/ipykernel_launcher.py:10: DataConversionWarning: A column-vector y was passed when a 1d array was expected. Please change the shape of y to (n_samples, ), for example using ravel().\n",
            "  # Remove the CWD from sys.path while we load stuff.\n",
            "/usr/local/lib/python3.6/dist-packages/ipykernel_launcher.py:10: DataConversionWarning: A column-vector y was passed when a 1d array was expected. Please change the shape of y to (n_samples, ), for example using ravel().\n",
            "  # Remove the CWD from sys.path while we load stuff.\n",
            "/usr/local/lib/python3.6/dist-packages/ipykernel_launcher.py:10: DataConversionWarning: A column-vector y was passed when a 1d array was expected. Please change the shape of y to (n_samples, ), for example using ravel().\n",
            "  # Remove the CWD from sys.path while we load stuff.\n",
            "/usr/local/lib/python3.6/dist-packages/ipykernel_launcher.py:10: DataConversionWarning: A column-vector y was passed when a 1d array was expected. Please change the shape of y to (n_samples, ), for example using ravel().\n",
            "  # Remove the CWD from sys.path while we load stuff.\n",
            "/usr/local/lib/python3.6/dist-packages/ipykernel_launcher.py:10: DataConversionWarning: A column-vector y was passed when a 1d array was expected. Please change the shape of y to (n_samples, ), for example using ravel().\n",
            "  # Remove the CWD from sys.path while we load stuff.\n",
            "/usr/local/lib/python3.6/dist-packages/ipykernel_launcher.py:10: DataConversionWarning: A column-vector y was passed when a 1d array was expected. Please change the shape of y to (n_samples, ), for example using ravel().\n",
            "  # Remove the CWD from sys.path while we load stuff.\n",
            "/usr/local/lib/python3.6/dist-packages/ipykernel_launcher.py:10: DataConversionWarning: A column-vector y was passed when a 1d array was expected. Please change the shape of y to (n_samples, ), for example using ravel().\n",
            "  # Remove the CWD from sys.path while we load stuff.\n",
            "/usr/local/lib/python3.6/dist-packages/ipykernel_launcher.py:10: DataConversionWarning: A column-vector y was passed when a 1d array was expected. Please change the shape of y to (n_samples, ), for example using ravel().\n",
            "  # Remove the CWD from sys.path while we load stuff.\n",
            "/usr/local/lib/python3.6/dist-packages/ipykernel_launcher.py:10: DataConversionWarning: A column-vector y was passed when a 1d array was expected. Please change the shape of y to (n_samples, ), for example using ravel().\n",
            "  # Remove the CWD from sys.path while we load stuff.\n",
            "/usr/local/lib/python3.6/dist-packages/ipykernel_launcher.py:10: DataConversionWarning: A column-vector y was passed when a 1d array was expected. Please change the shape of y to (n_samples, ), for example using ravel().\n",
            "  # Remove the CWD from sys.path while we load stuff.\n",
            "/usr/local/lib/python3.6/dist-packages/ipykernel_launcher.py:10: DataConversionWarning: A column-vector y was passed when a 1d array was expected. Please change the shape of y to (n_samples, ), for example using ravel().\n",
            "  # Remove the CWD from sys.path while we load stuff.\n"
          ],
          "name": "stderr"
        }
      ]
    },
    {
      "cell_type": "markdown",
      "metadata": {
        "id": "PmVfzhFT4yq4",
        "colab_type": "text"
      },
      "source": [
        "**Plotting neighbors(Elbow Method):**"
      ]
    },
    {
      "cell_type": "code",
      "metadata": {
        "id": "JMRRDMD6ir8O",
        "colab_type": "code",
        "outputId": "7961952e-e552-4270-ee51-dfa439ac96ad",
        "colab": {
          "base_uri": "https://localhost:8080/",
          "height": 421
        }
      },
      "source": [
        "  plt.figure(figsize=(12, 6))\n",
        "  plt.plot(range(1, 50,3), accuracy_rate, color='red', linestyle='dashed', marker='o',\n",
        "          markerfacecolor='blue', markersize=10)\n",
        "  plt.title('Accuracy Rate K Value')\n",
        "  plt.xlabel('K Value')\n",
        "  plt.ylabel('Accuracy Rate')"
      ],
      "execution_count": 0,
      "outputs": [
        {
          "output_type": "execute_result",
          "data": {
            "text/plain": [
              "Text(0, 0.5, 'Accuracy Rate')"
            ]
          },
          "metadata": {
            "tags": []
          },
          "execution_count": 27
        },
        {
          "output_type": "display_data",
          "data": {
            "image/png": "[encoded data removed]",
            "text/plain": [
              "<Figure size 864x432 with 1 Axes>"
            ]
          },
          "metadata": {
            "tags": []
          }
        }
      ]
    },
    {
      "cell_type": "markdown",
      "metadata": {
        "id": "Ew8X3RU24619",
        "colab_type": "text"
      },
      "source": [
        "**For k=20 accuracy=28%**"
      ]
    },
    {
      "cell_type": "code",
      "metadata": {
        "id": "hZtRIPGO-wNO",
        "colab_type": "code",
        "outputId": "951e60ba-d7c0-46bb-8928-4d4a7608a5cc",
        "colab": {
          "base_uri": "https://localhost:8080/",
          "height": 88
        }
      },
      "source": [
        "#x[:, 0] = labelencoder.fit_transform(my_dataset_new_drop_arrest[:, 0])\n",
        "X=my_dataset_new.iloc[:,:3]\n",
        "y=my_dataset_new.iloc[:,3:]\n",
        "\n",
        "X_train, X_test, y_train, y_test= train_test_split(X,y,random_state=123, test_size=0.2)\n",
        "knn= KNeighborsClassifier(n_neighbors=20, p=2, metric='euclidean')\n",
        "knn.fit(X_train,y_train)\n",
        "y_pred=knn.predict(X_test)\n",
        "print(accuracy_score(y_test,y_pred))"
      ],
      "execution_count": 0,
      "outputs": [
        {
          "output_type": "stream",
          "text": [
            "/usr/local/lib/python3.6/dist-packages/ipykernel_launcher.py:6: DataConversionWarning: A column-vector y was passed when a 1d array was expected. Please change the shape of y to (n_samples, ), for example using ravel().\n",
            "  \n"
          ],
          "name": "stderr"
        },
        {
          "output_type": "stream",
          "text": [
            "0.2833475341672063\n"
          ],
          "name": "stdout"
        }
      ]
    },
    {
      "cell_type": "markdown",
      "metadata": {
        "id": "09iX9VuC30sg",
        "colab_type": "text"
      },
      "source": [
        "**Adding new feature(Location Description) to the exisiting data for better prediction**"
      ]
    },
    {
      "cell_type": "code",
      "metadata": {
        "id": "ihrv150aUrTa",
        "colab_type": "code",
        "outputId": "c9c3e3ea-1734-4b3a-fb12-753af34f7a67",
        "colab": {
          "base_uri": "https://localhost:8080/",
          "height": 204
        }
      },
      "source": [
        "le_primarytype = LabelEncoder()\n",
        "le_arrest = LabelEncoder()\n",
        "le_locationdescription = LabelEncoder()\n",
        "dataset_new_pd['new_arrest']=le_arrest.fit_transform(dataset_new_pd['Arrest'])\n",
        "dataset_new_pd['new_locationdescription']=le_locationdescription.fit_transform(dataset_new_pd['Location Description'])\n",
        "dataset_new_pd['new_primarytype']=le_primarytype.fit_transform(dataset_new_pd['Primary Type'])\n",
        "my_dataset_new=dataset_new_pd.drop(['Primary Type','Arrest','Location Description'], axis=1)\n",
        "my_dataset_new.head()"
      ],
      "execution_count": 15,
      "outputs": [
        {
          "output_type": "execute_result",
          "data": {
            "text/html": [
              "<div>\n",
              "<style scoped>\n",
              "    .dataframe tbody tr th:only-of-type {\n",
              "        vertical-align: middle;\n",
              "    }\n",
              "\n",
              "    .dataframe tbody tr th {\n",
              "        vertical-align: top;\n",
              "    }\n",
              "\n",
              "    .dataframe thead th {\n",
              "        text-align: right;\n",
              "    }\n",
              "</style>\n",
              "<table border=\"1\" class=\"dataframe\">\n",
              "  <thead>\n",
              "    <tr style=\"text-align: right;\">\n",
              "      <th></th>\n",
              "      <th>Ward</th>\n",
              "      <th>Week</th>\n",
              "      <th>new_arrest</th>\n",
              "      <th>new_locationdescription</th>\n",
              "      <th>new_primarytype</th>\n",
              "    </tr>\n",
              "  </thead>\n",
              "  <tbody>\n",
              "    <tr>\n",
              "      <th>0</th>\n",
              "      <td>41</td>\n",
              "      <td>1</td>\n",
              "      <td>0</td>\n",
              "      <td>3</td>\n",
              "      <td>10</td>\n",
              "    </tr>\n",
              "    <tr>\n",
              "      <th>1</th>\n",
              "      <td>42</td>\n",
              "      <td>11</td>\n",
              "      <td>0</td>\n",
              "      <td>142</td>\n",
              "      <td>1</td>\n",
              "    </tr>\n",
              "    <tr>\n",
              "      <th>2</th>\n",
              "      <td>4</td>\n",
              "      <td>11</td>\n",
              "      <td>0</td>\n",
              "      <td>125</td>\n",
              "      <td>13</td>\n",
              "    </tr>\n",
              "    <tr>\n",
              "      <th>3</th>\n",
              "      <td>49</td>\n",
              "      <td>11</td>\n",
              "      <td>0</td>\n",
              "      <td>122</td>\n",
              "      <td>1</td>\n",
              "    </tr>\n",
              "    <tr>\n",
              "      <th>4</th>\n",
              "      <td>4</td>\n",
              "      <td>11</td>\n",
              "      <td>0</td>\n",
              "      <td>142</td>\n",
              "      <td>9</td>\n",
              "    </tr>\n",
              "  </tbody>\n",
              "</table>\n",
              "</div>"
            ],
            "text/plain": [
              "  Ward  Week  new_arrest  new_locationdescription  new_primarytype\n",
              "0   41     1           0                        3               10\n",
              "1   42    11           0                      142                1\n",
              "2    4    11           0                      125               13\n",
              "3   49    11           0                      122                1\n",
              "4    4    11           0                      142                9"
            ]
          },
          "metadata": {
            "tags": []
          },
          "execution_count": 15
        }
      ]
    },
    {
      "cell_type": "markdown",
      "metadata": {
        "id": "838R7UGL5Re2",
        "colab_type": "text"
      },
      "source": [
        "**[Accuracy achieved= 36%]**"
      ]
    },
    {
      "cell_type": "code",
      "metadata": {
        "id": "ts5pAtbWQYrX",
        "colab_type": "code",
        "colab": {
          "base_uri": "https://localhost:8080/",
          "height": 88
        },
        "outputId": "c0749d67-2faa-4f5a-8c93-189d5ee721ad"
      },
      "source": [
        "#x[:, 0] = labelencoder.fit_transform(my_dataset_new_drop_arrest[:, 0])\n",
        "X=my_dataset_new.iloc[:,:4]\n",
        "y=my_dataset_new.iloc[:,4:]\n",
        "\n",
        "X_train, X_test, y_train, y_test= train_test_split(X,y,random_state=123, test_size=0.2)\n",
        "knn= KNeighborsClassifier(n_neighbors=20, p=2, metric='euclidean')\n",
        "knn.fit(X_train,y_train)\n",
        "y_pred=knn.predict(X_test)\n",
        "print(accuracy_score(y_test,y_pred))"
      ],
      "execution_count": 97,
      "outputs": [
        {
          "output_type": "stream",
          "text": [
            "/usr/local/lib/python3.6/dist-packages/ipykernel_launcher.py:6: DataConversionWarning: A column-vector y was passed when a 1d array was expected. Please change the shape of y to (n_samples, ), for example using ravel().\n",
            "  \n"
          ],
          "name": "stderr"
        },
        {
          "output_type": "stream",
          "text": [
            "0.36494658885362274\n"
          ],
          "name": "stdout"
        }
      ]
    },
    {
      "cell_type": "markdown",
      "metadata": {
        "id": "KIKuYJed6Hvr",
        "colab_type": "text"
      },
      "source": [
        "**Applying Random OverSampling technique**"
      ]
    },
    {
      "cell_type": "code",
      "metadata": {
        "id": "TbgSoEHCbk8-",
        "colab_type": "code",
        "colab": {
          "base_uri": "https://localhost:8080/",
          "height": 105
        },
        "outputId": "c75b6fd9-63fb-4d77-d15d-db75d6ee339b"
      },
      "source": [
        "from imblearn.over_sampling import RandomOverSampler\n",
        "from imblearn.under_sampling import RandomUnderSampler\n",
        "\n",
        "# define oversampling strategy\n",
        "over = RandomOverSampler(sampling_strategy= 'minority') \n",
        "\n",
        "X=my_dataset_new.iloc[:,:4]\n",
        "y=my_dataset_new.iloc[:,4:]\n",
        "\n",
        "# fit and apply the transform\n",
        "X_random, y_random = over.fit_resample(X, y)\n"
      ],
      "execution_count": 16,
      "outputs": [
        {
          "output_type": "stream",
          "text": [
            "/usr/local/lib/python3.6/dist-packages/sklearn/utils/validation.py:760: DataConversionWarning: A column-vector y was passed when a 1d array was expected. Please change the shape of y to (n_samples, ), for example using ravel().\n",
            "  y = column_or_1d(y, warn=True)\n",
            "/usr/local/lib/python3.6/dist-packages/sklearn/utils/deprecation.py:87: FutureWarning: Function safe_indexing is deprecated; safe_indexing is deprecated in version 0.22 and will be removed in version 0.24.\n",
            "  warnings.warn(msg, category=FutureWarning)\n"
          ],
          "name": "stderr"
        }
      ]
    },
    {
      "cell_type": "markdown",
      "metadata": {
        "id": "LrNiOAZW6T4m",
        "colab_type": "text"
      },
      "source": [
        "**[Accuracy Achieved=41%]**"
      ]
    },
    {
      "cell_type": "code",
      "metadata": {
        "id": "8xM6eqBp9u76",
        "colab_type": "code",
        "colab": {
          "base_uri": "https://localhost:8080/",
          "height": 34
        },
        "outputId": "1a33e077-6741-4231-e6fe-0fc100b10b46"
      },
      "source": [
        "X_train, X_test, y_train, y_test= train_test_split(X_random,y_random,random_state=123, test_size=0.2)\n",
        "knn= KNeighborsClassifier(n_neighbors=20, p=2, metric='manhattan')\n",
        "knn.fit(X_train,y_train)\n",
        "y_pred=knn.predict(X_test)\n",
        "print(accuracy_score(y_test,y_pred))"
      ],
      "execution_count": 17,
      "outputs": [
        {
          "output_type": "stream",
          "text": [
            "0.4106584519307847\n"
          ],
          "name": "stdout"
        }
      ]
    },
    {
      "cell_type": "markdown",
      "metadata": {
        "id": "eg7lXp2z6rlh",
        "colab_type": "text"
      },
      "source": [
        "**F1 Score**"
      ]
    },
    {
      "cell_type": "code",
      "metadata": {
        "colab_type": "code",
        "outputId": "3206c0c2-256e-43e0-80d9-7d52ceb98a55",
        "id": "4tDXvUdD6pzy",
        "colab": {
          "base_uri": "https://localhost:8080/",
          "height": 34
        }
      },
      "source": [
        "print('F1 score ', f1_score(y_test, y_pred, average = 'weighted'))\n"
      ],
      "execution_count": 0,
      "outputs": [
        {
          "output_type": "stream",
          "text": [
            "F1 score  0.3164452799354284\n"
          ],
          "name": "stdout"
        }
      ]
    },
    {
      "cell_type": "markdown",
      "metadata": {
        "id": "tNUkqXQ86unB",
        "colab_type": "text"
      },
      "source": [
        "**Applying Random UnderSampling technique**"
      ]
    },
    {
      "cell_type": "code",
      "metadata": {
        "id": "-4DpcVlwjn9Q",
        "colab_type": "code",
        "colab": {
          "base_uri": "https://localhost:8080/",
          "height": 71
        },
        "outputId": "e1003af2-5efe-4a26-de02-4c52a1a03cba"
      },
      "source": [
        "# define oversampling strategy\n",
        "over = RandomUnderSampler(sampling_strategy= 'majority') \n",
        "\n",
        "X=my_dataset_new.iloc[:,:4]\n",
        "y=my_dataset_new.iloc[:,4:]\n",
        "\n",
        "# fit and apply the transform\n",
        "X_random, y_random = over.fit_resample(X, y)\n"
      ],
      "execution_count": 21,
      "outputs": [
        {
          "output_type": "stream",
          "text": [
            "/usr/local/lib/python3.6/dist-packages/sklearn/utils/deprecation.py:87: FutureWarning: Function safe_indexing is deprecated; safe_indexing is deprecated in version 0.22 and will be removed in version 0.24.\n",
            "  warnings.warn(msg, category=FutureWarning)\n"
          ],
          "name": "stderr"
        }
      ]
    },
    {
      "cell_type": "code",
      "metadata": {
        "id": "NqHLSmffyavd",
        "colab_type": "code",
        "colab": {
          "base_uri": "https://localhost:8080/",
          "height": 88
        },
        "outputId": "abe7f377-a8f7-4c18-bfd7-a1bad6bbc10b"
      },
      "source": [
        "X_train, X_test, y_train, y_test= train_test_split(X_random,y_random,random_state=123, test_size=0.2)\n",
        "knn= KNeighborsClassifier(n_neighbors=20, p=2, metric='manhattan')\n",
        "knn.fit(X_train,y_train)\n",
        "y_pred=knn.predict(X_test)\n",
        "print(accuracy_score(y_test,y_pred))"
      ],
      "execution_count": 22,
      "outputs": [
        {
          "output_type": "stream",
          "text": [
            "/usr/local/lib/python3.6/dist-packages/ipykernel_launcher.py:3: DataConversionWarning: A column-vector y was passed when a 1d array was expected. Please change the shape of y to (n_samples, ), for example using ravel().\n",
            "  This is separate from the ipykernel package so we can avoid doing imports until\n"
          ],
          "name": "stderr"
        },
        {
          "output_type": "stream",
          "text": [
            "0.35839825381758694\n"
          ],
          "name": "stdout"
        }
      ]
    },
    {
      "cell_type": "markdown",
      "metadata": {
        "id": "YD-m-OIt62tu",
        "colab_type": "text"
      },
      "source": [
        "**Random UnderSampling technique with sampling_strategy= 'not minority'**"
      ]
    },
    {
      "cell_type": "code",
      "metadata": {
        "id": "bGkSEd0n1yUM",
        "colab_type": "code",
        "colab": {
          "base_uri": "https://localhost:8080/",
          "height": 71
        },
        "outputId": "525607e4-eadb-4314-b753-1b65409f55c0"
      },
      "source": [
        "# define undersampling strategy\n",
        "under = RandomUnderSampler(sampling_strategy= 'not minority') \n",
        "\n",
        "X=my_dataset_new.iloc[:,:4]\n",
        "y=my_dataset_new.iloc[:,4:]\n",
        "\n",
        "# fit and apply the transform\n",
        "X_random, y_random = under.fit_resample(X, y)\n"
      ],
      "execution_count": 110,
      "outputs": [
        {
          "output_type": "stream",
          "text": [
            "/usr/local/lib/python3.6/dist-packages/sklearn/utils/deprecation.py:87: FutureWarning: Function safe_indexing is deprecated; safe_indexing is deprecated in version 0.22 and will be removed in version 0.24.\n",
            "  warnings.warn(msg, category=FutureWarning)\n"
          ],
          "name": "stderr"
        }
      ]
    },
    {
      "cell_type": "code",
      "metadata": {
        "id": "0bCu5NnV14UU",
        "colab_type": "code",
        "colab": {
          "base_uri": "https://localhost:8080/",
          "height": 88
        },
        "outputId": "9b63ae69-3e56-4329-d347-805ff6fc6b58"
      },
      "source": [
        "X_train, X_test, y_train, y_test= train_test_split(X_random,y_random,random_state=123, test_size=0.2)\n",
        "knn= KNeighborsClassifier(n_neighbors=20, p=2, metric='euclidean')\n",
        "knn.fit(X_train,y_train)\n",
        "y_pred=knn.predict(X_test)\n",
        "print(accuracy_score(y_test,y_pred))"
      ],
      "execution_count": 111,
      "outputs": [
        {
          "output_type": "stream",
          "text": [
            "/usr/local/lib/python3.6/dist-packages/ipykernel_launcher.py:3: DataConversionWarning: A column-vector y was passed when a 1d array was expected. Please change the shape of y to (n_samples, ), for example using ravel().\n",
            "  This is separate from the ipykernel package so we can avoid doing imports until\n"
          ],
          "name": "stderr"
        },
        {
          "output_type": "stream",
          "text": [
            "0.26398139001306525\n"
          ],
          "name": "stdout"
        }
      ]
    },
    {
      "cell_type": "markdown",
      "metadata": {
        "id": "kKMeli7J7Amg",
        "colab_type": "text"
      },
      "source": [
        "**Random OverSampling technique with sampling_strategy= 'not majority'**"
      ]
    },
    {
      "cell_type": "code",
      "metadata": {
        "id": "oj1ovh9c2TQf",
        "colab_type": "code",
        "colab": {
          "base_uri": "https://localhost:8080/",
          "height": 105
        },
        "outputId": "82c49c03-da1a-4d55-c5a8-7a13bf141461"
      },
      "source": [
        "# define oversampling strategy\n",
        "over = RandomOverSampler(sampling_strategy= 'not majority') \n",
        "\n",
        "X=my_dataset_new.iloc[:,:4]\n",
        "y=my_dataset_new.iloc[:,4:]\n",
        "\n",
        "# fit and apply the transform\n",
        "X_random, y_random = over.fit_resample(X, y)"
      ],
      "execution_count": 112,
      "outputs": [
        {
          "output_type": "stream",
          "text": [
            "/usr/local/lib/python3.6/dist-packages/sklearn/utils/validation.py:760: DataConversionWarning: A column-vector y was passed when a 1d array was expected. Please change the shape of y to (n_samples, ), for example using ravel().\n",
            "  y = column_or_1d(y, warn=True)\n",
            "/usr/local/lib/python3.6/dist-packages/sklearn/utils/deprecation.py:87: FutureWarning: Function safe_indexing is deprecated; safe_indexing is deprecated in version 0.22 and will be removed in version 0.24.\n",
            "  warnings.warn(msg, category=FutureWarning)\n"
          ],
          "name": "stderr"
        }
      ]
    },
    {
      "cell_type": "code",
      "metadata": {
        "id": "2vwRu1er2a8b",
        "colab_type": "code",
        "colab": {
          "base_uri": "https://localhost:8080/",
          "height": 34
        },
        "outputId": "50b9bcac-f1b4-46af-c739-916f429ee64d"
      },
      "source": [
        "X_train, X_test, y_train, y_test= train_test_split(X_random,y_random,random_state=123, test_size=0.2)\n",
        "knn= KNeighborsClassifier(n_neighbors=20, p=2, metric='euclidean')\n",
        "knn.fit(X_train,y_train)\n",
        "y_pred=knn.predict(X_test)\n",
        "print(accuracy_score(y_test,y_pred))"
      ],
      "execution_count": 113,
      "outputs": [
        {
          "output_type": "stream",
          "text": [
            "0.35551290653826945\n"
          ],
          "name": "stdout"
        }
      ]
    }
  ]
}